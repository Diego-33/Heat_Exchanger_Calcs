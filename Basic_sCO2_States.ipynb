{
 "cells": [
  {
   "cell_type": "code",
   "execution_count": 1,
   "id": "c428874a-45c5-4b8b-aaf6-4a4fa2a754a9",
   "metadata": {},
   "outputs": [],
   "source": [
    "# Dictate the environment's loctaion of REFPROP\n",
    "import os\n",
    "os.environ['RPPREFIX'] = r'C:/Program Files (x86)/REFPROP'"
   ]
  },
  {
   "cell_type": "code",
   "execution_count": 2,
   "id": "e5cf470b-e06f-4e7d-b2be-552173b98e15",
   "metadata": {},
   "outputs": [],
   "source": [
    "# Import the main class from the Python library\n",
    "from ctREFPROP.ctREFPROP import REFPROPFunctionLibrary\n",
    "\n",
    "# Imports from conda-installable packages\n",
    "import pandas as pd\n",
    "\n",
    "# Import numpy\n",
    "import numpy as np\n",
    "\n",
    "# Import matplotlib for plotting\n",
    "import matplotlib.pyplot as plt\n",
    "\n",
    "# Import Math for common values such as PI\n",
    "import math\n"
   ]
  },
  {
   "cell_type": "code",
   "execution_count": 3,
   "id": "ad5da523-e488-4dbb-b6f5-617cea90786b",
   "metadata": {},
   "outputs": [],
   "source": [
    "# Instantiate the library, and use the environment variable to explicitly state which path we want to use.\n",
    "# As mentioned above, this will be changed to call the correct REFPROP functions to be used\n",
    "# with MINI-REFPROP and 32-bit python.\n",
    "# If using MINI-REFPROP and 32-bit python please make the following changes\n",
    "# RP = REFPROPFunctionLibrary('C:/Program FIles (x86)/MINI-REFPROP\\\\REFPROP.DLL')\n",
    "RP = REFPROPFunctionLibrary(os.environ['RPPREFIX'])"
   ]
  },
  {
   "cell_type": "code",
   "execution_count": 4,
   "id": "1a8b2dea-063a-4229-a323-cc9f164a9dd1",
   "metadata": {},
   "outputs": [],
   "source": [
    "# This will call which root directory that will be used for the program. \n",
    "RP.SETPATHdll(os.environ['RPPREFIX'])"
   ]
  },
  {
   "cell_type": "code",
   "execution_count": 5,
   "id": "2b03b521-6c6d-4a3c-99b9-e9846e64d36f",
   "metadata": {},
   "outputs": [],
   "source": [
    "# Get the unit system we want to use (Mass base SI gives units in\n",
    "# K, Pa, kg, m, N, J, W, and s)\n",
    "MASS_BASE_SI = RP.GETENUMdll(0, \"MASS BASE SI\").iEnum"
   ]
  },
  {
   "cell_type": "markdown",
   "id": "ad9eec4b-0735-41f9-b1a5-44537b8291a3",
   "metadata": {},
   "source": [
    "### Basic sCO2 States Derived"
   ]
  },
  {
   "cell_type": "code",
   "execution_count": 6,
   "id": "da2a5337-ebad-4c3c-9bc1-3f29c0006d60",
   "metadata": {},
   "outputs": [],
   "source": [
    "m_dot = .2 # kg/s of mass flow rate of sCO2\n",
    "Q_in = 12 # kW of heat addition into the system"
   ]
  },
  {
   "cell_type": "markdown",
   "id": "5391a606-a87b-4619-b067-369a997c3fc0",
   "metadata": {},
   "source": [
    "#### Outlet of Compressor, Inlet of Heat Source"
   ]
  },
  {
   "cell_type": "code",
   "execution_count": 7,
   "id": "80c1dc7a-4d08-4963-851c-965a2e991ea4",
   "metadata": {},
   "outputs": [
    {
     "name": "stdout",
     "output_type": "stream",
     "text": [
      "Pressure at Outlet of Compressor = 2500.0 psia\n",
      "Temperature at Outlet of Compressor = 145.4 F\n"
     ]
    }
   ],
   "source": [
    "# Temperature will be compared at end of script\n",
    "T1 = 63 # [C]\n",
    "P1 = 2500 # [psia]\n",
    "\n",
    "T1 = T1 + 273.15 # Convert C to Kelvin\n",
    "P1 = P1 * 6894.8 # convert psia to Pa\n",
    "\n",
    "print(\"Pressure at Outlet of Compressor =\", P1/6894.8, \"psia\")\n",
    "print(\"Temperature at Outlet of Compressor =\" , (T1 - 273.15) * (9/5) + 32, \"F\")"
   ]
  },
  {
   "cell_type": "code",
   "execution_count": 8,
   "id": "cbc23549-0baa-412f-8a0f-ebf4189a4987",
   "metadata": {},
   "outputs": [
    {
     "data": {
      "text/html": [
       "<div>\n",
       "<style scoped>\n",
       "    .dataframe tbody tr th:only-of-type {\n",
       "        vertical-align: middle;\n",
       "    }\n",
       "\n",
       "    .dataframe tbody tr th {\n",
       "        vertical-align: top;\n",
       "    }\n",
       "\n",
       "    .dataframe thead th {\n",
       "        text-align: right;\n",
       "    }\n",
       "</style>\n",
       "<table border=\"1\" class=\"dataframe\">\n",
       "  <thead>\n",
       "    <tr style=\"text-align: right;\">\n",
       "      <th></th>\n",
       "      <th>State 1</th>\n",
       "    </tr>\n",
       "  </thead>\n",
       "  <tbody>\n",
       "    <tr>\n",
       "      <th>Density [kg/m^3]</th>\n",
       "      <td>646.530133</td>\n",
       "    </tr>\n",
       "    <tr>\n",
       "      <th>Volume [m^3/kg]</th>\n",
       "      <td>0.001547</td>\n",
       "    </tr>\n",
       "    <tr>\n",
       "      <th>Enthalpy [J/kg]</th>\n",
       "      <td>342482.845698</td>\n",
       "    </tr>\n",
       "    <tr>\n",
       "      <th>Entropy [J/kg]</th>\n",
       "      <td>1412.054091</td>\n",
       "    </tr>\n",
       "    <tr>\n",
       "      <th>CP/CV</th>\n",
       "      <td>3.115189</td>\n",
       "    </tr>\n",
       "    <tr>\n",
       "      <th>Speed of Sound</th>\n",
       "      <td>346.935076</td>\n",
       "    </tr>\n",
       "    <tr>\n",
       "      <th>Thermal Cond. [W/(mK)]</th>\n",
       "      <td>0.069987</td>\n",
       "    </tr>\n",
       "    <tr>\n",
       "      <th>Viscosity [Pa-s]</th>\n",
       "      <td>0.000051</td>\n",
       "    </tr>\n",
       "    <tr>\n",
       "      <th>Prandtl</th>\n",
       "      <td>2.117334</td>\n",
       "    </tr>\n",
       "  </tbody>\n",
       "</table>\n",
       "</div>"
      ],
      "text/plain": [
       "                              State 1\n",
       "Density [kg/m^3]           646.530133\n",
       "Volume [m^3/kg]              0.001547\n",
       "Enthalpy [J/kg]         342482.845698\n",
       "Entropy [J/kg]            1412.054091\n",
       "CP/CV                        3.115189\n",
       "Speed of Sound             346.935076\n",
       "Thermal Cond. [W/(mK)]       0.069987\n",
       "Viscosity [Pa-s]             0.000051\n",
       "Prandtl                      2.117334"
      ]
     },
     "execution_count": 8,
     "metadata": {},
     "output_type": "execute_result"
    }
   ],
   "source": [
    "# Obtain fluid properties from the pressure and temperature outlined above\n",
    "State_1 = RP.REFPROPdll(\"CO2\",\"PT\",\"D;V;H;S;CP/CV;W;TCX;VIS;PRANDTL\", MASS_BASE_SI,0,0,P1,T1,[1.0])\n",
    "\n",
    "# Outputs will be placed into data frame for organization\n",
    "State_1 = pd.DataFrame(State_1.Output[0:9],\n",
    "            index = ['Density [kg/m^3]', 'Volume [m^3/kg]', 'Enthalpy [J/kg]', 'Entropy [J/kg]',\n",
    "                     'CP/CV', 'Speed of Sound', 'Thermal Cond. [W/(mK)]', 'Viscosity [Pa-s]', 'Prandtl'],\n",
    "            columns = ['State 1'])\n",
    "\n",
    "# Display the data frame\n",
    "State_1"
   ]
  },
  {
   "cell_type": "markdown",
   "id": "af6ed4c3-bcfa-4727-98bf-1d0320f0118d",
   "metadata": {},
   "source": [
    "#### Outlet of Heat Source, Inlet of Engine"
   ]
  },
  {
   "cell_type": "code",
   "execution_count": 9,
   "id": "eb0c92b0-c1ca-458e-a62d-1584469fbd11",
   "metadata": {},
   "outputs": [],
   "source": [
    "P2 = P1\n",
    "h2 = Q_in * 1000 / (m_dot) + State_1.loc['Enthalpy [J/kg]','State 1']"
   ]
  },
  {
   "cell_type": "code",
   "execution_count": 10,
   "id": "d1ce5808-9dde-4891-904a-b88da2a74b35",
   "metadata": {},
   "outputs": [
    {
     "data": {
      "text/html": [
       "<div>\n",
       "<style scoped>\n",
       "    .dataframe tbody tr th:only-of-type {\n",
       "        vertical-align: middle;\n",
       "    }\n",
       "\n",
       "    .dataframe tbody tr th {\n",
       "        vertical-align: top;\n",
       "    }\n",
       "\n",
       "    .dataframe thead th {\n",
       "        text-align: right;\n",
       "    }\n",
       "</style>\n",
       "<table border=\"1\" class=\"dataframe\">\n",
       "  <thead>\n",
       "    <tr style=\"text-align: right;\">\n",
       "      <th></th>\n",
       "      <th>State 2</th>\n",
       "    </tr>\n",
       "  </thead>\n",
       "  <tbody>\n",
       "    <tr>\n",
       "      <th>Temperature [K]</th>\n",
       "      <td>356.611761</td>\n",
       "    </tr>\n",
       "    <tr>\n",
       "      <th>Density [kg/m^3]</th>\n",
       "      <td>490.567738</td>\n",
       "    </tr>\n",
       "    <tr>\n",
       "      <th>Volume [m^3/kg]</th>\n",
       "      <td>0.002038</td>\n",
       "    </tr>\n",
       "    <tr>\n",
       "      <th>Entropy [J/kg]</th>\n",
       "      <td>1585.369760</td>\n",
       "    </tr>\n",
       "    <tr>\n",
       "      <th>CP/CV</th>\n",
       "      <td>3.008056</td>\n",
       "    </tr>\n",
       "    <tr>\n",
       "      <th>Speed of Sound</th>\n",
       "      <td>295.743887</td>\n",
       "    </tr>\n",
       "    <tr>\n",
       "      <th>Thermal Cond. [W/(mK)]</th>\n",
       "      <td>0.056005</td>\n",
       "    </tr>\n",
       "    <tr>\n",
       "      <th>Viscosity [Pa-s]</th>\n",
       "      <td>0.000037</td>\n",
       "    </tr>\n",
       "    <tr>\n",
       "      <th>Prandtl</th>\n",
       "      <td>1.817426</td>\n",
       "    </tr>\n",
       "  </tbody>\n",
       "</table>\n",
       "</div>"
      ],
      "text/plain": [
       "                            State 2\n",
       "Temperature [K]          356.611761\n",
       "Density [kg/m^3]         490.567738\n",
       "Volume [m^3/kg]            0.002038\n",
       "Entropy [J/kg]          1585.369760\n",
       "CP/CV                      3.008056\n",
       "Speed of Sound           295.743887\n",
       "Thermal Cond. [W/(mK)]     0.056005\n",
       "Viscosity [Pa-s]           0.000037\n",
       "Prandtl                    1.817426"
      ]
     },
     "execution_count": 10,
     "metadata": {},
     "output_type": "execute_result"
    }
   ],
   "source": [
    "# Obtain fluid properties from the pressure and enthalpy outlined above\n",
    "State_2 = RP.REFPROPdll(\"CO2\",\"PH\",\"T;D;V;S;CP/CV;W;TCX;VIS;PRANDTL\", MASS_BASE_SI,0,0,P2,h2,[1.0])\n",
    "\n",
    "# Outputs will be placed into data frame for organization\n",
    "State_2 = pd.DataFrame(State_2.Output[0:9],\n",
    "            index = ['Temperature [K]','Density [kg/m^3]', 'Volume [m^3/kg]', 'Entropy [J/kg]',\n",
    "                     'CP/CV', 'Speed of Sound', 'Thermal Cond. [W/(mK)]', 'Viscosity [Pa-s]', 'Prandtl'],\n",
    "            columns = ['State 2'])\n",
    "\n",
    "# Display the data frame\n",
    "State_2"
   ]
  },
  {
   "cell_type": "markdown",
   "id": "0b985d20-f82f-4dca-86b6-9c44d869b008",
   "metadata": {},
   "source": [
    "#### Outlet of Engine, Inlet of Heat Exchanger"
   ]
  },
  {
   "cell_type": "code",
   "execution_count": 11,
   "id": "a654b2b4-8f01-44b5-8ac2-7c9367384ba4",
   "metadata": {},
   "outputs": [],
   "source": [
    "# Engine Parameters\n",
    "mass_cylinder = State_2.loc['Density [kg/m^3]', 'State 2'] * .000308276\n",
    "State_3_den = mass_cylinder / .000454574\n",
    "\n",
    "# With Isentropic expansion\n",
    "State_3_entr = State_2.loc['Entropy [J/kg]', 'State 2']\n",
    "\n",
    "State_3_isen = RP.REFPROPdll(\"CO2\",\"DS\",\"P;T;V;H;CP/CV;W;TCX;VIS;PRANDTL\", MASS_BASE_SI,0,0,State_3_den,State_3_entr,[1.0])\n",
    "\n",
    "# Outputs will be placed into data frame for organization\n",
    "State_3_isen = pd.DataFrame(State_3_isen.Output[0:9],\n",
    "            index = ['Pressure [Pa]', 'Temperature [K]', 'Volume [m^3/kg]', 'Enthalpy [J/kg]',\n",
    "                     'CP/CV', 'Speed of Sound', 'Thermal Cond. [W/(mK)]', 'Viscosity [Pa-s]', 'Prandtl'],\n",
    "            columns = ['State 3 Isentropic'])\n"
   ]
  },
  {
   "cell_type": "code",
   "execution_count": 12,
   "id": "7ed92fda-f002-4f3b-adfa-73cfe96a17f9",
   "metadata": {},
   "outputs": [],
   "source": [
    "# Account for Issentropic Efficiency\n",
    "Isen_eff = .7\n",
    "State_3_enth_new = h2 - (Isen_eff * (h2 - State_3_isen.loc['Enthalpy [J/kg]', 'State 3 Isentropic']))\n",
    "\n",
    "# Using Pressure and enthalpy find the states of the fluid at the Outlet of Engine\n",
    "\n",
    "State_3 = RP.REFPROPdll(\"CO2\",\"PH\",\"D;T;V;S;CP/CV;W;TCX;VIS;PRANDTL\", MASS_BASE_SI,0,0,State_3_isen.loc['Pressure [Pa]', 'State 3 Isentropic'],State_3_enth_new,[1.0])\n",
    "\n",
    "# Outputs will be placed into data frame for organization\n",
    "State_3 = pd.DataFrame(State_3.Output[0:9],\n",
    "            index = ['Density [kg/m^3]','Temperature [K]', 'Volume [m^3/kg]', 'Entropy [J/kg]',\n",
    "                     'CP/CV', 'Speed of Sound', 'Thermal Cond. [W/(mK)]', 'Viscosity [Pa-s]', 'Prandtl'],\n",
    "            columns = ['State 3'])\n"
   ]
  },
  {
   "cell_type": "code",
   "execution_count": 13,
   "id": "44e648d7-fa8c-440a-a448-8c2c0069a8e7",
   "metadata": {},
   "outputs": [],
   "source": [
    "State_1.loc['Pressure [Pa]', 'State 1'] = P1\n",
    "State_1.loc['Temperature [K]', 'State 1'] = T1\n",
    "State_2.loc['Pressure [Pa]', 'State 2'] = P2\n",
    "State_2.loc['Enthalpy [J/kg]', 'State 2'] = h2\n",
    "State_3_isen.loc['Density [kg/m^3]', 'State 3 Isentropic'] = State_3_den\n",
    "State_3_isen.loc['Entropy [J/kg]', 'State 3 Isentropic'] = State_3_entr\n"
   ]
  }
 ],
 "metadata": {
  "kernelspec": {
   "display_name": "Python 3",
   "language": "python",
   "name": "python3"
  },
  "language_info": {
   "codemirror_mode": {
    "name": "ipython",
    "version": 3
   },
   "file_extension": ".py",
   "mimetype": "text/x-python",
   "name": "python",
   "nbconvert_exporter": "python",
   "pygments_lexer": "ipython3",
   "version": "3.8.8"
  }
 },
 "nbformat": 4,
 "nbformat_minor": 5
}
