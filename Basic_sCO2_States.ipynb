{
 "cells": [
  {
   "cell_type": "code",
   "execution_count": 1,
   "id": "c428874a-45c5-4b8b-aaf6-4a4fa2a754a9",
   "metadata": {},
   "outputs": [],
   "source": [
    "# Dictate the environment's loctaion of REFPROP\n",
    "import os\n",
    "os.environ['RPPREFIX'] = r'C:/Program Files (x86)/REFPROP'"
   ]
  },
  {
   "cell_type": "code",
   "execution_count": 2,
   "id": "e5cf470b-e06f-4e7d-b2be-552173b98e15",
   "metadata": {},
   "outputs": [],
   "source": [
    "# Import the main class from the Python library\n",
    "from ctREFPROP.ctREFPROP import REFPROPFunctionLibrary\n",
    "\n",
    "# Imports from conda-installable packages\n",
    "import pandas as pd\n",
    "\n",
    "# Import numpy\n",
    "import numpy as np\n",
    "\n",
    "# Import matplotlib for plotting\n",
    "import matplotlib.pyplot as plt\n",
    "\n",
    "# Import Math for common values such as PI\n",
    "import math\n"
   ]
  },
  {
   "cell_type": "code",
   "execution_count": 3,
   "id": "ad5da523-e488-4dbb-b6f5-617cea90786b",
   "metadata": {},
   "outputs": [],
   "source": [
    "# Instantiate the library, and use the environment variable to explicitly state which path we want to use.\n",
    "# As mentioned above, this will be changed to call the correct REFPROP functions to be used\n",
    "# with MINI-REFPROP and 32-bit python.\n",
    "# If using MINI-REFPROP and 32-bit python please make the following changes\n",
    "# RP = REFPROPFunctionLibrary('C:/Program FIles (x86)/MINI-REFPROP\\\\REFPROP.DLL')\n",
    "RP = REFPROPFunctionLibrary(os.environ['RPPREFIX'])"
   ]
  },
  {
   "cell_type": "code",
   "execution_count": 4,
   "id": "1a8b2dea-063a-4229-a323-cc9f164a9dd1",
   "metadata": {},
   "outputs": [],
   "source": [
    "# This will call which root directory that will be used for the program. \n",
    "RP.SETPATHdll(os.environ['RPPREFIX'])"
   ]
  },
  {
   "cell_type": "code",
   "execution_count": 5,
   "id": "2b03b521-6c6d-4a3c-99b9-e9846e64d36f",
   "metadata": {},
   "outputs": [],
   "source": [
    "# Get the unit system we want to use (Mass base SI gives units in\n",
    "# K, Pa, kg, m, N, J, W, and s)\n",
    "MASS_BASE_SI = RP.GETENUMdll(0, \"MASS BASE SI\").iEnum"
   ]
  },
  {
   "cell_type": "markdown",
   "id": "ad9eec4b-0735-41f9-b1a5-44537b8291a3",
   "metadata": {},
   "source": [
    "### Basic sCO2 States Derived"
   ]
  },
  {
   "cell_type": "code",
   "execution_count": 6,
   "id": "da2a5337-ebad-4c3c-9bc1-3f29c0006d60",
   "metadata": {},
   "outputs": [],
   "source": [
    "m_dot = .2 # kg/s of mass flow rate of sCO2"
   ]
  },
  {
   "cell_type": "markdown",
   "id": "af6ed4c3-bcfa-4727-98bf-1d0320f0118d",
   "metadata": {},
   "source": [
    "#### Outlet of Heat Source, Inlet of Engine"
   ]
  },
  {
   "cell_type": "code",
   "execution_count": 7,
   "id": "eb0c92b0-c1ca-458e-a62d-1584469fbd11",
   "metadata": {},
   "outputs": [
    {
     "name": "stdout",
     "output_type": "stream",
     "text": [
      "Pressure at Outlet of Heat Source = 2500.0 psia\n",
      "Temperature at Outlet of Heat Source = 190.4 F\n"
     ]
    }
   ],
   "source": [
    "T2 = 88 # [C]\n",
    "P2 = 2500 # [psia]\n",
    "\n",
    "T2 = T2 + 273.15 # Convert C to Kelvin\n",
    "P2 = P2 * 6894.8 # convert psia to Pa\n",
    "\n",
    "print(\"Pressure at Outlet of Heat Source =\", P2/6894.8, \"psia\")\n",
    "print(\"Temperature at Outlet of Heat Source =\" , (T2 - 273.15) * (9/5) + 32, \"F\")"
   ]
  },
  {
   "cell_type": "code",
   "execution_count": 8,
   "id": "d1ce5808-9dde-4891-904a-b88da2a74b35",
   "metadata": {},
   "outputs": [
    {
     "data": {
      "text/html": [
       "<div>\n",
       "<style scoped>\n",
       "    .dataframe tbody tr th:only-of-type {\n",
       "        vertical-align: middle;\n",
       "    }\n",
       "\n",
       "    .dataframe tbody tr th {\n",
       "        vertical-align: top;\n",
       "    }\n",
       "\n",
       "    .dataframe thead th {\n",
       "        text-align: right;\n",
       "    }\n",
       "</style>\n",
       "<table border=\"1\" class=\"dataframe\">\n",
       "  <thead>\n",
       "    <tr style=\"text-align: right;\">\n",
       "      <th></th>\n",
       "      <th>State 2</th>\n",
       "    </tr>\n",
       "  </thead>\n",
       "  <tbody>\n",
       "    <tr>\n",
       "      <th>Enthalpy [J/kg]</th>\n",
       "      <td>414772.202437</td>\n",
       "    </tr>\n",
       "    <tr>\n",
       "      <th>Density [kg/m^3]</th>\n",
       "      <td>462.360653</td>\n",
       "    </tr>\n",
       "    <tr>\n",
       "      <th>Volume [m^3/kg]</th>\n",
       "      <td>0.002163</td>\n",
       "    </tr>\n",
       "    <tr>\n",
       "      <th>Entropy [J/kg]</th>\n",
       "      <td>1619.615557</td>\n",
       "    </tr>\n",
       "    <tr>\n",
       "      <th>CP/CV</th>\n",
       "      <td>2.880774</td>\n",
       "    </tr>\n",
       "    <tr>\n",
       "      <th>Speed of Sound</th>\n",
       "      <td>291.838963</td>\n",
       "    </tr>\n",
       "    <tr>\n",
       "      <th>Thermal Cond. [W/(mK)]</th>\n",
       "      <td>0.053589</td>\n",
       "    </tr>\n",
       "    <tr>\n",
       "      <th>Viscosity [Pa-s]</th>\n",
       "      <td>0.000035</td>\n",
       "    </tr>\n",
       "    <tr>\n",
       "      <th>Prandtl</th>\n",
       "      <td>1.714147</td>\n",
       "    </tr>\n",
       "  </tbody>\n",
       "</table>\n",
       "</div>"
      ],
      "text/plain": [
       "                              State 2\n",
       "Enthalpy [J/kg]         414772.202437\n",
       "Density [kg/m^3]           462.360653\n",
       "Volume [m^3/kg]              0.002163\n",
       "Entropy [J/kg]            1619.615557\n",
       "CP/CV                        2.880774\n",
       "Speed of Sound             291.838963\n",
       "Thermal Cond. [W/(mK)]       0.053589\n",
       "Viscosity [Pa-s]             0.000035\n",
       "Prandtl                      1.714147"
      ]
     },
     "execution_count": 8,
     "metadata": {},
     "output_type": "execute_result"
    }
   ],
   "source": [
    "# Obtain fluid properties from the pressure and enthalpy outlined above\n",
    "State_2 = RP.REFPROPdll(\"CO2\",\"PT\",\"H;D;V;S;CP/CV;W;TCX;VIS;PRANDTL\", MASS_BASE_SI,0,0,P2,T2,[1.0])\n",
    "\n",
    "# Outputs will be placed into data frame for organization\n",
    "State_2 = pd.DataFrame(State_2.Output[0:9],\n",
    "            index = ['Enthalpy [J/kg]','Density [kg/m^3]', 'Volume [m^3/kg]', 'Entropy [J/kg]',\n",
    "                     'CP/CV', 'Speed of Sound', 'Thermal Cond. [W/(mK)]', 'Viscosity [Pa-s]', 'Prandtl'],\n",
    "            columns = ['State 2'])\n",
    "\n",
    "# Display the data frame\n",
    "State_2"
   ]
  },
  {
   "cell_type": "markdown",
   "id": "0b985d20-f82f-4dca-86b6-9c44d869b008",
   "metadata": {},
   "source": [
    "#### Outlet of Engine, Inlet of Heat Exchanger"
   ]
  },
  {
   "cell_type": "code",
   "execution_count": 9,
   "id": "a654b2b4-8f01-44b5-8ac2-7c9367384ba4",
   "metadata": {},
   "outputs": [],
   "source": [
    "# Engine Parameters\n",
    "mass_cylinder = State_2.loc['Density [kg/m^3]', 'State 2'] * .000308276\n",
    "State_3_den = mass_cylinder / .000454574\n",
    "\n",
    "# With Isentropic expansion\n",
    "State_3_entr = State_2.loc['Entropy [J/kg]', 'State 2']\n",
    "\n",
    "State_3_isen = RP.REFPROPdll(\"CO2\",\"DS\",\"P;T;V;H;CP/CV;W;TCX;VIS;PRANDTL\", MASS_BASE_SI,0,0,State_3_den,State_3_entr,[1.0])\n",
    "\n",
    "# Outputs will be placed into data frame for organization\n",
    "State_3_isen = pd.DataFrame(State_3_isen.Output[0:9],\n",
    "            index = ['Pressure [Pa]', 'Temperature [K]', 'Volume [m^3/kg]', 'Enthalpy [J/kg]',\n",
    "                     'CP/CV', 'Speed of Sound', 'Thermal Cond. [W/(mK)]', 'Viscosity [Pa-s]', 'Prandtl'],\n",
    "            columns = ['State 3 Isentropic'])\n"
   ]
  },
  {
   "cell_type": "code",
   "execution_count": 10,
   "id": "7ed92fda-f002-4f3b-adfa-73cfe96a17f9",
   "metadata": {},
   "outputs": [],
   "source": [
    "# Account for Issentropic Efficiency\n",
    "Isen_eff = .7\n",
    "State_3_enth_new = State_2.loc['Enthalpy [J/kg]','State 2'] - (Isen_eff * (State_2.loc['Enthalpy [J/kg]','State 2'] - State_3_isen.loc['Enthalpy [J/kg]', 'State 3 Isentropic']))\n",
    "\n",
    "# Using Pressure and enthalpy find the states of the fluid at the Outlet of Engine\n",
    "\n",
    "State_3 = RP.REFPROPdll(\"CO2\",\"PH\",\"D;T;V;S;CP/CV;W;TCX;VIS;PRANDTL\", MASS_BASE_SI,0,0,State_3_isen.loc['Pressure [Pa]', 'State 3 Isentropic'],State_3_enth_new,[1.0])\n",
    "\n",
    "# Outputs will be placed into data frame for organization\n",
    "State_3 = pd.DataFrame(State_3.Output[0:9],\n",
    "            index = ['Density [kg/m^3]','Temperature [K]', 'Volume [m^3/kg]', 'Entropy [J/kg]',\n",
    "                     'CP/CV', 'Speed of Sound', 'Thermal Cond. [W/(mK)]', 'Viscosity [Pa-s]', 'Prandtl'],\n",
    "            columns = ['State 3'])\n"
   ]
  },
  {
   "cell_type": "markdown",
   "id": "b75a8783-5865-467e-b8de-ee2cb3014604",
   "metadata": {},
   "source": [
    "#### Outlet of Heat Exchanger, Inlet to Compressor"
   ]
  },
  {
   "cell_type": "code",
   "execution_count": 11,
   "id": "4fe9e732-fb37-46cf-bc62-ee3831658275",
   "metadata": {},
   "outputs": [],
   "source": [
    "P4 = State_3_isen.loc['Pressure [Pa]', 'State 3 Isentropic']\n",
    "\n",
    "Q_out = -8.2 # kW heat removed by Heat Exchanger\n",
    "\n",
    "h4 = Q_out * 1000 / (m_dot) + State_3_enth_new"
   ]
  },
  {
   "cell_type": "code",
   "execution_count": 12,
   "id": "41d0d662-bdac-42f1-b368-fb7c6224ab8a",
   "metadata": {},
   "outputs": [],
   "source": [
    "# Obtain fluid properties from the pressure and enthalpy outlined above\n",
    "State_4 = RP.REFPROPdll(\"CO2\",\"PH\",\"T;D;V;S;CP/CV;W;TCX;VIS;PRANDTL\", MASS_BASE_SI,0,0,P4,h4,[1.0])\n",
    "\n",
    "# Outputs will be placed into data frame for organization\n",
    "State_4 = pd.DataFrame(State_4.Output[0:9],\n",
    "            index = ['Temperature [K]','Density [kg/m^3]', 'Volume [m^3/kg]', 'Entropy [J/kg]',\n",
    "                     'CP/CV', 'Speed of Sound', 'Thermal Cond. [W/(mK)]', 'Viscosity [Pa-s]', 'Prandtl'],\n",
    "            columns = ['State 4'])"
   ]
  },
  {
   "cell_type": "markdown",
   "id": "27959fdf-b8df-4471-81d3-c2b5ce62f240",
   "metadata": {},
   "source": [
    "#### Outlet of Compressor, Inlet to Heat Source Isentropic"
   ]
  },
  {
   "cell_type": "code",
   "execution_count": 13,
   "id": "d1a80c73-e548-4807-87b4-50e2237c1b08",
   "metadata": {},
   "outputs": [],
   "source": [
    "# Find the Isentropic Outlet of the Compressor\n",
    "State_1_isen = RP.REFPROPdll(\"CO2\",\"PS\",\"T;D;V;H;CP/CV;W;TCX;VIS;PRANDTL\", MASS_BASE_SI,0,0,P2,State_4.loc['Entropy [J/kg]', 'State 4'],[1.0])\n",
    "State_1_isen = pd.DataFrame(State_1_isen.Output[0:9],\n",
    "            index = ['Temperature [K]','Density [kg/m^3]', 'Volume [m^3/kg]', 'Enthalpy [J/kg]',\n",
    "                     'CP/CV', 'Speed of Sound', 'Thermal Cond. [W/(mK)]', 'Viscosity [Pa-s]', 'Prandtl'],\n",
    "            columns = ['State 1 Isentropic'])"
   ]
  },
  {
   "cell_type": "code",
   "execution_count": 14,
   "id": "5154dff5-25a2-438b-b450-a743f6fc0df2",
   "metadata": {},
   "outputs": [],
   "source": [
    "# Account for Issentropic Efficiency\n",
    "Isen_eff = .85\n",
    "State_1_enth_new = h4 + ((State_1_isen.loc['Enthalpy [J/kg]', 'State 1 Isentropic'] - h4)/Isen_eff)"
   ]
  },
  {
   "cell_type": "code",
   "execution_count": 15,
   "id": "4c200782-dee4-4130-a450-6156bf39bd66",
   "metadata": {},
   "outputs": [],
   "source": [
    "State_1 = RP.REFPROPdll(\"CO2\",\"PH\",\"T;D;V;S;CP/CV;W;TCX;VIS;PRANDTL\", MASS_BASE_SI,0,0,P2,State_1_enth_new,[1.0])\n",
    "\n",
    "# Outputs will be placed into data frame for organization\n",
    "State_1 = pd.DataFrame(State_1.Output[0:9],\n",
    "            index = ['Temperature [K]', 'Density [kg/m^3]', 'Volume [m^3/kg]', 'Entropy [J/kg]',\n",
    "                     'CP/CV', 'Speed of Sound', 'Thermal Cond. [W/(mK)]', 'Viscosity [Pa-s]', 'Prandtl'],\n",
    "            columns = ['State 1'])"
   ]
  },
  {
   "cell_type": "code",
   "execution_count": 16,
   "id": "44e648d7-fa8c-440a-a448-8c2c0069a8e7",
   "metadata": {},
   "outputs": [],
   "source": [
    "State_2.loc['Pressure [Pa]', 'State 2'] = P2\n",
    "State_2.loc['Temperature [K]', 'State 2'] = T2\n",
    "State_3_isen.loc['Density [kg/m^3]', 'State 3 Isentropic'] = State_3_den\n",
    "State_3_isen.loc['Entropy [J/kg]', 'State 3 Isentropic'] = State_3_entr\n",
    "State_3.loc['Enthalpy [J/kg]', 'State 3'] = State_3_enth_new\n",
    "State_3.loc['Pressure [Pa]', 'State 3'] = State_3_isen.loc['Pressure [Pa]', 'State 3 Isentropic']\n",
    "State_4.loc['Pressure [Pa]', 'State 4'] = P4\n",
    "State_4.loc['Enthalpy [J/kg]', 'State 4'] = h4\n",
    "State_1_isen.loc['Entropy [J/kg]', 'State 1 Isentropic'] = State_4.loc['Entropy [J/kg]', 'State 4']\n",
    "State_1_isen.loc['Pressure [Pa]', 'State 1 Isentropic'] = P2\n",
    "State_1.loc['Enthalpy [J/kg]', 'State 1'] = State_1_enth_new\n",
    "State_1.loc['Pressure [Pa]', 'State 1'] = State_1_isen.loc['Pressure [Pa]', 'State 1 Isentropic']"
   ]
  },
  {
   "cell_type": "code",
   "execution_count": 17,
   "id": "a43a6215-03bb-41d6-81ad-4983ce904baa",
   "metadata": {},
   "outputs": [
    {
     "data": {
      "text/html": [
       "<div>\n",
       "<style scoped>\n",
       "    .dataframe tbody tr th:only-of-type {\n",
       "        vertical-align: middle;\n",
       "    }\n",
       "\n",
       "    .dataframe tbody tr th {\n",
       "        vertical-align: top;\n",
       "    }\n",
       "\n",
       "    .dataframe thead th {\n",
       "        text-align: right;\n",
       "    }\n",
       "</style>\n",
       "<table border=\"1\" class=\"dataframe\">\n",
       "  <thead>\n",
       "    <tr style=\"text-align: right;\">\n",
       "      <th></th>\n",
       "      <th>State 1 Isentropic</th>\n",
       "      <th>State 1</th>\n",
       "      <th>State 2</th>\n",
       "      <th>State 3 Isentropic</th>\n",
       "      <th>State 3</th>\n",
       "      <th>State 4</th>\n",
       "    </tr>\n",
       "  </thead>\n",
       "  <tbody>\n",
       "    <tr>\n",
       "      <th>Pressure [Pa]</th>\n",
       "      <td>1.723700e+07</td>\n",
       "      <td>1.723700e+07</td>\n",
       "      <td>1.723700e+07</td>\n",
       "      <td>8.351911e+06</td>\n",
       "      <td>8.351911e+06</td>\n",
       "      <td>8.351911e+06</td>\n",
       "    </tr>\n",
       "    <tr>\n",
       "      <th>Temperature [K]</th>\n",
       "      <td>3.474071e+02</td>\n",
       "      <td>3.484821e+02</td>\n",
       "      <td>3.611500e+02</td>\n",
       "      <td>3.138944e+02</td>\n",
       "      <td>3.150604e+02</td>\n",
       "      <td>3.105478e+02</td>\n",
       "    </tr>\n",
       "    <tr>\n",
       "      <th>Density [kg/m^3]</th>\n",
       "      <td>5.566761e+02</td>\n",
       "      <td>5.484311e+02</td>\n",
       "      <td>4.623607e+02</td>\n",
       "      <td>3.135566e+02</td>\n",
       "      <td>2.976036e+02</td>\n",
       "      <td>4.127311e+02</td>\n",
       "    </tr>\n",
       "    <tr>\n",
       "      <th>Volume [m^3/kg]</th>\n",
       "      <td>1.796377e-03</td>\n",
       "      <td>1.823383e-03</td>\n",
       "      <td>2.162814e-03</td>\n",
       "      <td>3.189217e-03</td>\n",
       "      <td>3.360175e-03</td>\n",
       "      <td>2.422885e-03</td>\n",
       "    </tr>\n",
       "    <tr>\n",
       "      <th>Enthalpy [J/kg]</th>\n",
       "      <td>3.759455e+05</td>\n",
       "      <td>3.791278e+05</td>\n",
       "      <td>4.147722e+05</td>\n",
       "      <td>3.921162e+05</td>\n",
       "      <td>3.989130e+05</td>\n",
       "      <td>3.579130e+05</td>\n",
       "    </tr>\n",
       "    <tr>\n",
       "      <th>Entropy [J/kg]</th>\n",
       "      <td>1.509966e+03</td>\n",
       "      <td>1.519112e+03</td>\n",
       "      <td>1.619616e+03</td>\n",
       "      <td>1.619616e+03</td>\n",
       "      <td>1.641230e+03</td>\n",
       "      <td>1.509966e+03</td>\n",
       "    </tr>\n",
       "    <tr>\n",
       "      <th>CP/CV</th>\n",
       "      <td>3.177562e+00</td>\n",
       "      <td>3.167072e+00</td>\n",
       "      <td>2.880774e+00</td>\n",
       "      <td>5.988800e+00</td>\n",
       "      <td>5.135798e+00</td>\n",
       "      <td>1.445877e+01</td>\n",
       "    </tr>\n",
       "    <tr>\n",
       "      <th>Speed of Sound</th>\n",
       "      <td>3.109282e+02</td>\n",
       "      <td>3.085568e+02</td>\n",
       "      <td>2.918390e+02</td>\n",
       "      <td>2.030412e+02</td>\n",
       "      <td>2.063522e+02</td>\n",
       "      <td>1.896631e+02</td>\n",
       "    </tr>\n",
       "    <tr>\n",
       "      <th>Thermal Cond. [W/(mK)]</th>\n",
       "      <td>6.172936e-02</td>\n",
       "      <td>6.100759e-02</td>\n",
       "      <td>5.358901e-02</td>\n",
       "      <td>4.986973e-02</td>\n",
       "      <td>4.634190e-02</td>\n",
       "      <td>7.356931e-02</td>\n",
       "    </tr>\n",
       "    <tr>\n",
       "      <th>Viscosity [Pa-s]</th>\n",
       "      <td>4.187644e-05</td>\n",
       "      <td>4.117298e-05</td>\n",
       "      <td>3.479425e-05</td>\n",
       "      <td>2.355055e-05</td>\n",
       "      <td>2.288181e-05</td>\n",
       "      <td>2.887508e-05</td>\n",
       "    </tr>\n",
       "    <tr>\n",
       "      <th>Prandtl</th>\n",
       "      <td>2.012615e+00</td>\n",
       "      <td>1.992961e+00</td>\n",
       "      <td>1.714147e+00</td>\n",
       "      <td>3.023834e+00</td>\n",
       "      <td>2.633648e+00</td>\n",
       "      <td>6.988593e+00</td>\n",
       "    </tr>\n",
       "  </tbody>\n",
       "</table>\n",
       "</div>"
      ],
      "text/plain": [
       "                        State 1 Isentropic       State 1       State 2  \\\n",
       "Pressure [Pa]                 1.723700e+07  1.723700e+07  1.723700e+07   \n",
       "Temperature [K]               3.474071e+02  3.484821e+02  3.611500e+02   \n",
       "Density [kg/m^3]              5.566761e+02  5.484311e+02  4.623607e+02   \n",
       "Volume [m^3/kg]               1.796377e-03  1.823383e-03  2.162814e-03   \n",
       "Enthalpy [J/kg]               3.759455e+05  3.791278e+05  4.147722e+05   \n",
       "Entropy [J/kg]                1.509966e+03  1.519112e+03  1.619616e+03   \n",
       "CP/CV                         3.177562e+00  3.167072e+00  2.880774e+00   \n",
       "Speed of Sound                3.109282e+02  3.085568e+02  2.918390e+02   \n",
       "Thermal Cond. [W/(mK)]        6.172936e-02  6.100759e-02  5.358901e-02   \n",
       "Viscosity [Pa-s]              4.187644e-05  4.117298e-05  3.479425e-05   \n",
       "Prandtl                       2.012615e+00  1.992961e+00  1.714147e+00   \n",
       "\n",
       "                        State 3 Isentropic       State 3       State 4  \n",
       "Pressure [Pa]                 8.351911e+06  8.351911e+06  8.351911e+06  \n",
       "Temperature [K]               3.138944e+02  3.150604e+02  3.105478e+02  \n",
       "Density [kg/m^3]              3.135566e+02  2.976036e+02  4.127311e+02  \n",
       "Volume [m^3/kg]               3.189217e-03  3.360175e-03  2.422885e-03  \n",
       "Enthalpy [J/kg]               3.921162e+05  3.989130e+05  3.579130e+05  \n",
       "Entropy [J/kg]                1.619616e+03  1.641230e+03  1.509966e+03  \n",
       "CP/CV                         5.988800e+00  5.135798e+00  1.445877e+01  \n",
       "Speed of Sound                2.030412e+02  2.063522e+02  1.896631e+02  \n",
       "Thermal Cond. [W/(mK)]        4.986973e-02  4.634190e-02  7.356931e-02  \n",
       "Viscosity [Pa-s]              2.355055e-05  2.288181e-05  2.887508e-05  \n",
       "Prandtl                       3.023834e+00  2.633648e+00  6.988593e+00  "
      ]
     },
     "execution_count": 17,
     "metadata": {},
     "output_type": "execute_result"
    }
   ],
   "source": [
    "# Combine the data frames into one data frame for ease of use\n",
    "sCO2_States = pd.concat([State_1_isen, State_1, State_2, State_3_isen, State_3, State_4], axis =1)\n",
    "\n",
    "# Reorder the Data Frame\n",
    "sCO2_States = sCO2_States.reindex([\"Pressure [Pa]\", \"Temperature [K]\", 'Density [kg/m^3]', 'Volume [m^3/kg]', 'Enthalpy [J/kg]',\n",
    "                     'Entropy [J/kg]', 'CP/CV', 'Speed of Sound', 'Thermal Cond. [W/(mK)]', 'Viscosity [Pa-s]', \n",
    "                     'Prandtl' ])\n",
    "\n",
    "# Display the data frame\n",
    "sCO2_States"
   ]
  },
  {
   "cell_type": "code",
   "execution_count": 18,
   "id": "dbadc737-9c0f-404e-a4c1-a8928294342a",
   "metadata": {},
   "outputs": [],
   "source": [
    "# Plot States on T-S Diagram\n",
    "S_CO2_1 = []\n",
    "S_CO2_2 = []\n",
    "T_CO2 = []\n",
    "T = 273.125 # K\n",
    "\n",
    "for x in range(0,20000):\n",
    "    CO2_S = RP.REFPROPdll(\"CO2\",\"TQMASS\",\"S\", MASS_BASE_SI,0,0, T + 31*(x/20000), 0,[1.0]).Output[0]\n",
    "    S_CO2_1.append(CO2_S/1000)\n",
    "    CO2_S = RP.REFPROPdll(\"CO2\",\"TQMASS\",\"S\", MASS_BASE_SI,0,0, T + 31*(x/20000), 1,[1.0]).Output[0]\n",
    "    S_CO2_2.append(CO2_S/1000)\n",
    "    T_CO2.append(T + 31*(x/20000))"
   ]
  },
  {
   "cell_type": "code",
   "execution_count": 19,
   "id": "8ea75090-28a5-40d5-bb2f-5d0d16693085",
   "metadata": {},
   "outputs": [],
   "source": [
    "T_CO2_P1 = []\n",
    "T_CO2_P2 = []\n",
    "S_P1 = []\n",
    "T_CO2_P3 = []\n",
    "\n",
    "for x in range(0,1000):\n",
    "    CO2_T = RP.REFPROPdll(\"CO2\",\"PS\",\"T\", MASS_BASE_SI,0,0, 1.723700e+07, (1 + .8 * (x/1000))*1000 ,[1.0]).Output[0]\n",
    "    T_CO2_P1.append(CO2_T-273.125)\n",
    "    S_P1.append(1 + .8 * (x/1000))\n",
    "    CO2_T = RP.REFPROPdll(\"CO2\",\"PS\",\"T\", MASS_BASE_SI,0,0, 8.351911e+06, (1 + .8 * (x/1000))*1000 ,[1.0]).Output[0]\n",
    "    T_CO2_P2.append(CO2_T-273.125)"
   ]
  },
  {
   "cell_type": "code",
   "execution_count": 20,
   "id": "4bab4f61-ad97-4065-9094-82cd1e2b48f0",
   "metadata": {},
   "outputs": [],
   "source": [
    "Isentropic_T = [sCO2_States.loc['Temperature [K]', 'State 1 Isentropic'],sCO2_States.loc['Temperature [K]', 'State 2'],sCO2_States.loc['Temperature [K]', 'State 3 Isentropic'],\\\n",
    "                sCO2_States.loc['Temperature [K]', 'State 4'],sCO2_States.loc['Temperature [K]', 'State 1 Isentropic'] ]\n",
    "Actual_T = [sCO2_States.loc['Temperature [K]', 'State 1'],sCO2_States.loc['Temperature [K]', 'State 2'],sCO2_States.loc['Temperature [K]', 'State 3'],\\\n",
    "                sCO2_States.loc['Temperature [K]', 'State 4'],sCO2_States.loc['Temperature [K]', 'State 1'] ]\n",
    "S_Isentropic = [sCO2_States.loc['Entropy [J/kg]', 'State 1 Isentropic'],sCO2_States.loc['Entropy [J/kg]', 'State 2'],sCO2_States.loc['Entropy [J/kg]', 'State 3 Isentropic'],\\\n",
    "                sCO2_States.loc['Entropy [J/kg]', 'State 4'],sCO2_States.loc['Entropy [J/kg]', 'State 1 Isentropic'] ]\n",
    "S_Actual = [sCO2_States.loc['Entropy [J/kg]', 'State 1'],sCO2_States.loc['Entropy [J/kg]', 'State 2'],sCO2_States.loc['Entropy [J/kg]', 'State 3'],\\\n",
    "                sCO2_States.loc['Entropy [J/kg]', 'State 4'],sCO2_States.loc['Entropy [J/kg]', 'State 1'] ]\n"
   ]
  },
  {
   "cell_type": "code",
   "execution_count": 21,
   "id": "badc04ac-c435-4939-96e5-7992a2afdde9",
   "metadata": {},
   "outputs": [],
   "source": [
    "T_merge = [31,31]\n",
    "S_merge = [1.415, 1.45]\n",
    "Isentropic_T = np.array(Isentropic_T) - 273.125\n",
    "Actual_T = np.array(Actual_T) - 273.125\n",
    "S_Isentropic = np.array(S_Isentropic)/1000\n",
    "S_Actual = np.array(S_Actual)/1000\n",
    "T_CO2 = np.array(T_CO2) - 273.125"
   ]
  },
  {
   "cell_type": "code",
   "execution_count": 24,
   "id": "9934cab4-62a2-4dfe-a881-fa6c3b49a7a1",
   "metadata": {},
   "outputs": [
    {
     "data": {
      "image/png": "[encoded data removed]",
      "text/plain": [
       "<Figure size 720x576 with 1 Axes>"
      ]
     },
     "metadata": {
      "needs_background": "light"
     },
     "output_type": "display_data"
    }
   ],
   "source": [
    "plt.figure(figsize=(10,8), tight_layout=True)\n",
    "\n",
    "plt.plot(S_CO2_1, T_CO2, 'b', linewidth = 1.5 )\n",
    "plt.plot(S_CO2_2, T_CO2, 'b', linewidth = 1.5 )\n",
    "plt.plot(S_merge, T_merge,'b', linewidth = 1.5)\n",
    "plt.plot(S_P1, T_CO2_P1,'k',linewidth=1.5)\n",
    "plt.plot(S_P1, T_CO2_P2,'k',linewidth=1.5)\n",
    "plt.axvline(x = 1.4331, ymin= .25,  color = 'g', linestyle = '--')\n",
    "plt.axhline(y=31, xmin = .35, color = 'g', linestyle = '--')\n",
    "plt.plot(S_Isentropic, Isentropic_T, '-r', linewidth = 2.5)\n",
    "plt.plot(S_Actual, Actual_T, '--r', linewidth = 2.5)\n",
    "\n",
    "plt.grid(True)\n",
    "plt.xlabel('Entropy [kJ/(kg*K)]', fontsize = 13)\n",
    "plt.ylabel('Temperature [C]', fontsize = 13)\n",
    "plt.axis([1.3,1.8,10,95])\n",
    "plt.annotate('8,352 kPa', xy = (1.7, 45), fontsize = 14, xytext = (1.72, 40),arrowprops = dict(facecolor = 'black'),\n",
    "             color = 'k')\n",
    "plt.annotate('17,273 kPa', xy = (1.65, 91), fontsize = 14, xytext = (1.7, 85),arrowprops = dict(facecolor = 'black'),\n",
    "             color = 'k')\n",
    "plt.text(1.505, 34, '1', fontsize = 18)\n",
    "plt.text(1.518, 77.5, '2', fontsize = 18)\n",
    "plt.text(1.49, 76, '2s', fontsize = 18)\n",
    "plt.text(1.61, 89, '3', fontsize = 18)\n",
    "plt.text(1.61, 36, '4s', fontsize = 18)\n",
    "plt.text(1.64, 39, '4', fontsize = 18)\n",
    "plt.text(1.35, 18, 'Two-phase Region', fontsize = 25,\n",
    "        bbox = dict(facecolor = 'white'))\n",
    "\n",
    "plt.savefig('T-S_Diagram.png',bbox_inches='tight')\n",
    "\n",
    "plt.show()"
   ]
  },
  {
   "cell_type": "code",
   "execution_count": null,
   "id": "d997b90d-39a3-44c8-80a4-155815080bb9",
   "metadata": {},
   "outputs": [],
   "source": []
  }
 ],
 "metadata": {
  "kernelspec": {
   "display_name": "Python 3",
   "language": "python",
   "name": "python3"
  },
  "language_info": {
   "codemirror_mode": {
    "name": "ipython",
    "version": 3
   },
   "file_extension": ".py",
   "mimetype": "text/x-python",
   "name": "python",
   "nbconvert_exporter": "python",
   "pygments_lexer": "ipython3",
   "version": "3.8.8"
  }
 },
 "nbformat": 4,
 "nbformat_minor": 5
}
