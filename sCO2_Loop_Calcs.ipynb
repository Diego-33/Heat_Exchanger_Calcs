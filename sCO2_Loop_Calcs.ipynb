{
 "cells": [
  {
   "cell_type": "markdown",
   "id": "a4c21cec-8370-4237-943d-5e57b04f5ead",
   "metadata": {},
   "source": [
    "#### IMPORTANT\n",
    "Ensure you are utilizing 64-bit REFPROP with 64-bit python. If using the free version of REFPROP (MINI-REFPROP), please use 32-bit python and make changes to match the location where MINI-REFPROP is installed and make changes to the REFPROPFunctionLibrary function to read the REFPROP.DLL file.\n",
    "\n",
    "Information on REFPROP and functions can be found here: https://buildmedia.readthedocs.org/media/pdf/refprop-docs/latest/refprop-docs.pdf"
   ]
  },
  {
   "cell_type": "markdown",
   "id": "d862b04f-8370-46a8-83ca-1ad7e45e5536",
   "metadata": {},
   "source": [
    "### IMPORT PACKAGES & FUNCTIONS"
   ]
  },
  {
   "cell_type": "code",
   "execution_count": 1,
   "id": "cc86853f-d099-4544-a430-8ec7a59efe3e",
   "metadata": {},
   "outputs": [],
   "source": [
    "# Dictate the environment's loctaion of REFPROP\n",
    "import os\n",
    "os.environ['RPPREFIX'] = r'C:/Program Files (x86)/REFPROP'"
   ]
  },
  {
   "cell_type": "code",
   "execution_count": 2,
   "id": "cae9cf53-a183-496f-9b32-2a03c9953203",
   "metadata": {},
   "outputs": [],
   "source": [
    "# Import the main class from the Python library\n",
    "from ctREFPROP.ctREFPROP import REFPROPFunctionLibrary\n",
    "\n",
    "# Imports from conda-installable packages\n",
    "import pandas as pd\n",
    "\n",
    "# Import numpy\n",
    "import numpy as np\n",
    "\n",
    "# Import matplotlib for plotting\n",
    "import matplotlib.pyplot as plt\n",
    "\n",
    "# Import Math for common values such as PI\n",
    "import math\n"
   ]
  },
  {
   "cell_type": "code",
   "execution_count": 3,
   "id": "e7659705-3901-427a-a53b-946af5cc27dc",
   "metadata": {},
   "outputs": [],
   "source": [
    "# Instantiate the library, and use the environment variable to explicitly state which path we want to use.\n",
    "# As mentioned above, this will be changed to call the correct REFPROP functions to be used\n",
    "# with MINI-REFPROP and 32-bit python.\n",
    "# If using MINI-REFPROP and 32-bit python please make the following changes\n",
    "# RP = REFPROPFunctionLibrary('C:/Program FIles (x86)/MINI-REFPROP\\\\REFPROP.DLL')\n",
    "RP = REFPROPFunctionLibrary(os.environ['RPPREFIX'])"
   ]
  },
  {
   "cell_type": "code",
   "execution_count": 4,
   "id": "75b01e1f-629a-4008-b501-6465129b1c1f",
   "metadata": {},
   "outputs": [],
   "source": [
    "# This will call which root directory that will be used for the program. \n",
    "RP.SETPATHdll(os.environ['RPPREFIX'])"
   ]
  },
  {
   "cell_type": "code",
   "execution_count": 5,
   "id": "e9893dd2-04f1-40c1-bb5a-548170f3970c",
   "metadata": {},
   "outputs": [],
   "source": [
    "# Get the unit system we want to use (Mass base SI gives units in\n",
    "# K, Pa, kg, m, N, J, W, and s)\n",
    "MASS_BASE_SI = RP.GETENUMdll(0, \"MASS BASE SI\").iEnum"
   ]
  },
  {
   "cell_type": "markdown",
   "id": "12b69d65-0141-40b4-9655-00d86b5daf7e",
   "metadata": {},
   "source": [
    "### sCO2 Loop Calculations"
   ]
  },
  {
   "cell_type": "markdown",
   "id": "2319cc65-41d2-4b9f-8e3d-932af2c8f985",
   "metadata": {},
   "source": [
    "#### System Parameters"
   ]
  },
  {
   "cell_type": "code",
   "execution_count": 6,
   "id": "556cbc06-2a9a-47c7-abf5-484b871c682c",
   "metadata": {},
   "outputs": [],
   "source": [
    "# Tube inner diameter and outer diameter\n",
    "Tube_OD = 0.50 # [inch]\n",
    "Tube_Thick = 0.065 # [inch]\n",
    "Tube_ID = Tube_OD - 2 * Tube_Thick # inch\n",
    "\n",
    "Tube_OD = Tube_OD * 0.0254 # [Convert inches to meters]\n",
    "Tube_ID = Tube_ID * 0.0254 # [Convert inches to meters]\n",
    "\n",
    "# Mass flow rate of sCO2\n",
    "m_dot = 0.2 # [kg/s]"
   ]
  },
  {
   "cell_type": "markdown",
   "id": "28139e4f-10f0-481f-aa62-a0c1a4c390c1",
   "metadata": {},
   "source": [
    "#### Outlet of Compressor (State  1)"
   ]
  },
  {
   "cell_type": "code",
   "execution_count": 7,
   "id": "bb1968cc-905c-40c7-85a3-8d8fd40f3c13",
   "metadata": {},
   "outputs": [
    {
     "name": "stdout",
     "output_type": "stream",
     "text": [
      "Pressure at Outlet of Compressor = 2900.0 psia\n",
      "Temperature at Outlet of Compressor = 141.44000000000003 F\n"
     ]
    }
   ],
   "source": [
    "# Temperature will be compared at end of script\n",
    "T1 = 60.8 # [C]\n",
    "P1 = 2900 # [psia]\n",
    "\n",
    "T1 = T1 + 273.15 # Convert C to Kelvin\n",
    "P1 = P1 * 6894.8 # convert psia to Pa\n",
    "\n",
    "print(\"Pressure at Outlet of Compressor =\", P1/6894.8, \"psia\")\n",
    "print(\"Temperature at Outlet of Compressor =\" , (T1 - 273.15) * (9/5) + 32, \"F\")"
   ]
  },
  {
   "cell_type": "code",
   "execution_count": 8,
   "id": "04b9a0ac-60ba-44dc-b7dd-7a7f733297f2",
   "metadata": {},
   "outputs": [
    {
     "data": {
      "text/html": [
       "<div>\n",
       "<style scoped>\n",
       "    .dataframe tbody tr th:only-of-type {\n",
       "        vertical-align: middle;\n",
       "    }\n",
       "\n",
       "    .dataframe tbody tr th {\n",
       "        vertical-align: top;\n",
       "    }\n",
       "\n",
       "    .dataframe thead th {\n",
       "        text-align: right;\n",
       "    }\n",
       "</style>\n",
       "<table border=\"1\" class=\"dataframe\">\n",
       "  <thead>\n",
       "    <tr style=\"text-align: right;\">\n",
       "      <th></th>\n",
       "      <th>State 1</th>\n",
       "    </tr>\n",
       "  </thead>\n",
       "  <tbody>\n",
       "    <tr>\n",
       "      <th>Density [kg/m^3]</th>\n",
       "      <td>718.546425</td>\n",
       "    </tr>\n",
       "    <tr>\n",
       "      <th>Volume [m^3/kg]</th>\n",
       "      <td>0.001392</td>\n",
       "    </tr>\n",
       "    <tr>\n",
       "      <th>Enthalpy [J/kg]</th>\n",
       "      <td>326519.585095</td>\n",
       "    </tr>\n",
       "    <tr>\n",
       "      <th>Entropy [J/kg]</th>\n",
       "      <td>1352.393713</td>\n",
       "    </tr>\n",
       "    <tr>\n",
       "      <th>CP/CV</th>\n",
       "      <td>2.724135</td>\n",
       "    </tr>\n",
       "    <tr>\n",
       "      <th>Speed of Sound</th>\n",
       "      <td>408.530472</td>\n",
       "    </tr>\n",
       "    <tr>\n",
       "      <th>Thermal Cond. [W/(mK)]</th>\n",
       "      <td>0.077787</td>\n",
       "    </tr>\n",
       "    <tr>\n",
       "      <th>Viscosity [Pa-s]</th>\n",
       "      <td>0.000060</td>\n",
       "    </tr>\n",
       "    <tr>\n",
       "      <th>Prandtl</th>\n",
       "      <td>1.930132</td>\n",
       "    </tr>\n",
       "  </tbody>\n",
       "</table>\n",
       "</div>"
      ],
      "text/plain": [
       "                              State 1\n",
       "Density [kg/m^3]           718.546425\n",
       "Volume [m^3/kg]              0.001392\n",
       "Enthalpy [J/kg]         326519.585095\n",
       "Entropy [J/kg]            1352.393713\n",
       "CP/CV                        2.724135\n",
       "Speed of Sound             408.530472\n",
       "Thermal Cond. [W/(mK)]       0.077787\n",
       "Viscosity [Pa-s]             0.000060\n",
       "Prandtl                      1.930132"
      ]
     },
     "execution_count": 8,
     "metadata": {},
     "output_type": "execute_result"
    }
   ],
   "source": [
    "# Obtain fluid properties from the pressure and temperature outlined above\n",
    "State_1 = RP.REFPROPdll(\"CO2\",\"PT\",\"D;V;H;S;CP/CV;W;TCX;VIS;PRANDTL\", MASS_BASE_SI,0,0,P1,T1,[1.0])\n",
    "\n",
    "# Outputs will be placed into data frame for organization\n",
    "State_1 = pd.DataFrame(State_1.Output[0:9],\n",
    "            index = ['Density [kg/m^3]', 'Volume [m^3/kg]', 'Enthalpy [J/kg]', 'Entropy [J/kg]',\n",
    "                     'CP/CV', 'Speed of Sound', 'Thermal Cond. [W/(mK)]', 'Viscosity [Pa-s]', 'Prandtl'],\n",
    "            columns = ['State 1'])\n",
    "\n",
    "# Display the data frame\n",
    "State_1"
   ]
  },
  {
   "cell_type": "markdown",
   "id": "7271bf6f-acea-4a29-bbca-f3c63c7facfd",
   "metadata": {},
   "source": [
    "#### Pressure drop towards Heat Source"
   ]
  },
  {
   "cell_type": "code",
   "execution_count": 9,
   "id": "dd839fdc-3c72-41e9-a19d-395f6a4a9c05",
   "metadata": {},
   "outputs": [],
   "source": [
    "# Find Velocity, Reynolds Number, and darcy friction factor (assuming smooth pipe)\n",
    "Velocity = 4 * m_dot * State_1.loc['Volume [m^3/kg]','State 1'] / (math.pi * Tube_ID**2)\n",
    "Reynolds = State_1.loc['Density [kg/m^3]','State 1'] * Velocity * Tube_ID / State_1.loc['Viscosity [Pa-s]','State 1']\n",
    "Darcy_f = (0.79 * math.log(Reynolds) - 1.64)**(-2)"
   ]
  },
  {
   "cell_type": "code",
   "execution_count": 10,
   "id": "45770152-0747-48f3-bef3-65bfc6ddce99",
   "metadata": {},
   "outputs": [
    {
     "name": "stdout",
     "output_type": "stream",
     "text": [
      "Pressure at Inlet of Heat Source = 2892.272 psia\n",
      "Temperature at Inlet of Heat Source = 141.44000000000003 F\n"
     ]
    }
   ],
   "source": [
    "# Using Estimated Length of Tubing connecting compressor and Heat Source, \n",
    "# find the amount of pressure drop caused by fanno flow\n",
    "Length = 3.71475 # [meters]\n",
    "\n",
    "# Force acted on the wall of tube\n",
    "Force = math.pi * Tube_ID * Darcy_f * State_1.loc['Density [kg/m^3]','State 1'] * (Velocity**2) * Length / 8 \n",
    "\n",
    "# Dimensionless Friction factor\n",
    "f_dim = 4 * Force / (P1 * math.pi * Tube_ID**2) \n",
    "\n",
    "# Inlet Mach Number of length of tubing\n",
    "Mach_inlet = Velocity / State_1.loc['Speed of Sound','State 1']\n",
    "\n",
    "# Formulation used to calculate Pressure drop (found in Adv. Fluid Mechanics Textbook)\n",
    "A_eq = ((Mach_inlet**2) * (1 + ((State_1.loc['CP/CV','State 1'] - 1) / 2) * (Mach_inlet**2))) \\\n",
    "        / ((1 + State_1.loc['CP/CV','State 1'] * (Mach_inlet**2) - f_dim)**2)\n",
    "\n",
    "# Either Mach numbers will be negative. Use the positive value in the following calculations\n",
    "Mach_outlet_1 = math.sqrt((-1 * (1 - 2 * A_eq * State_1.loc['CP/CV','State 1'])\\\n",
    "                          + ((1 + 2 * A_eq * (State_1.loc['CP/CV','State 1'] + 1))**0.5))\\\n",
    "                         / ((State_1.loc['CP/CV','State 1'] - 1) - 2 * A_eq * State_1.loc['CP/CV','State 1']**2))\n",
    "#Mach_outlet_2 = math.sqrt((-1 * (1 - 2 * A_eq * State_1.loc['CP/CV','State 1'])\\\n",
    "#                          - ((1 + 2 * A_eq * (State_1.loc['CP/CV','State 1'] + 1))**0.5))\\\n",
    "#                         / ((State_1.loc['CP/CV','State 1'] - 1) - 2 * A_eq * State_1.loc['CP/CV','State 1']**2))\n",
    "\n",
    "# Find Outlet pressure caused by fanno flow (frictional loss)\n",
    "P2 = P1 * (1 + State_1.loc['CP/CV','State 1'] * (Mach_inlet**2) - f_dim) / (1 + State_1.loc['CP/CV','State 1']\\\n",
    "                                                                           * (Mach_outlet_1**2))\n",
    "\n",
    "print(\"Pressure at Inlet of Heat Source =\", round(P2/6894.8 , 3), \"psia\")\n",
    "print(\"Temperature at Inlet of Heat Source =\" , (T1 - 273.15) * (9/5) + 32, \"F\")"
   ]
  },
  {
   "cell_type": "markdown",
   "id": "1093fad4-8729-458e-98cc-a0cccd43ef8d",
   "metadata": {},
   "source": [
    "#### Inlet of Heat Source (State 2a)"
   ]
  },
  {
   "cell_type": "code",
   "execution_count": 11,
   "id": "7aefce92-bc34-4440-99ef-8ef91d7aff4d",
   "metadata": {},
   "outputs": [
    {
     "data": {
      "text/html": [
       "<div>\n",
       "<style scoped>\n",
       "    .dataframe tbody tr th:only-of-type {\n",
       "        vertical-align: middle;\n",
       "    }\n",
       "\n",
       "    .dataframe tbody tr th {\n",
       "        vertical-align: top;\n",
       "    }\n",
       "\n",
       "    .dataframe thead th {\n",
       "        text-align: right;\n",
       "    }\n",
       "</style>\n",
       "<table border=\"1\" class=\"dataframe\">\n",
       "  <thead>\n",
       "    <tr style=\"text-align: right;\">\n",
       "      <th></th>\n",
       "      <th>State 2a</th>\n",
       "    </tr>\n",
       "  </thead>\n",
       "  <tbody>\n",
       "    <tr>\n",
       "      <th>Density [kg/m^3]</th>\n",
       "      <td>717.673988</td>\n",
       "    </tr>\n",
       "    <tr>\n",
       "      <th>Volume [m^3/kg]</th>\n",
       "      <td>0.001393</td>\n",
       "    </tr>\n",
       "    <tr>\n",
       "      <th>Enthalpy [J/kg]</th>\n",
       "      <td>326664.346395</td>\n",
       "    </tr>\n",
       "    <tr>\n",
       "      <th>Entropy [J/kg]</th>\n",
       "      <td>1353.049371</td>\n",
       "    </tr>\n",
       "    <tr>\n",
       "      <th>CP/CV</th>\n",
       "      <td>2.729241</td>\n",
       "    </tr>\n",
       "    <tr>\n",
       "      <th>Speed of Sound</th>\n",
       "      <td>407.611053</td>\n",
       "    </tr>\n",
       "    <tr>\n",
       "      <th>Thermal Cond. [W/(mK)]</th>\n",
       "      <td>0.077682</td>\n",
       "    </tr>\n",
       "    <tr>\n",
       "      <th>Viscosity [Pa-s]</th>\n",
       "      <td>0.000060</td>\n",
       "    </tr>\n",
       "    <tr>\n",
       "      <th>Prandtl</th>\n",
       "      <td>1.932877</td>\n",
       "    </tr>\n",
       "  </tbody>\n",
       "</table>\n",
       "</div>"
      ],
      "text/plain": [
       "                             State 2a\n",
       "Density [kg/m^3]           717.673988\n",
       "Volume [m^3/kg]              0.001393\n",
       "Enthalpy [J/kg]         326664.346395\n",
       "Entropy [J/kg]            1353.049371\n",
       "CP/CV                        2.729241\n",
       "Speed of Sound             407.611053\n",
       "Thermal Cond. [W/(mK)]       0.077682\n",
       "Viscosity [Pa-s]             0.000060\n",
       "Prandtl                      1.932877"
      ]
     },
     "execution_count": 11,
     "metadata": {},
     "output_type": "execute_result"
    }
   ],
   "source": [
    "#Pressure and temperature of fluid at inlet of Heat Source\n",
    "P2a = P2\n",
    "T2a = T1\n",
    "\n",
    "# Tube ID (using 1\" OD Tubes)\n",
    "Tube_HS_ID = .81 * 0.0254 # convert inches to meters\n",
    "\n",
    "# Obtain fluid properties from the pressure and temperature outlined above\n",
    "State_2a = RP.REFPROPdll(\"CO2\",\"PT\",\"D;V;H;S;CP/CV;W;TCX;VIS;PRANDTL\", MASS_BASE_SI,0,0,P2a,T2a,[1.0])\n",
    "\n",
    "# Outputs will be placed into data frame for organization\n",
    "State_2a = pd.DataFrame(State_2a.Output[0:9],\n",
    "            index = ['Density [kg/m^3]', 'Volume [m^3/kg]', 'Enthalpy [J/kg]', 'Entropy [J/kg]',\n",
    "                     'CP/CV', 'Speed of Sound', 'Thermal Cond. [W/(mK)]', 'Viscosity [Pa-s]', 'Prandtl'],\n",
    "            columns = ['State 2a'])\n",
    "\n",
    "# Display the data frame\n",
    "State_2a"
   ]
  },
  {
   "cell_type": "code",
   "execution_count": 12,
   "id": "bd52ffec-39a3-4670-8b45-588c32ef41ea",
   "metadata": {},
   "outputs": [],
   "source": [
    "# Find Velocity, Reynolds Number, and darcy friction factor (assuming smooth pipe)\n",
    "Velocity = 4 * m_dot * State_2a.loc['Volume [m^3/kg]','State 2a'] / (math.pi * Tube_HS_ID**2)\n",
    "Reynolds = State_2a.loc['Density [kg/m^3]','State 2a'] * Velocity * Tube_HS_ID / State_2a.loc['Viscosity [Pa-s]','State 2a']\n",
    "Darcy_f = (0.79 * math.log(Reynolds) - 1.64)**(-2)"
   ]
  },
  {
   "cell_type": "code",
   "execution_count": 13,
   "id": "c9d3687e-2b7e-47e7-91a9-3fd6c065ddde",
   "metadata": {},
   "outputs": [
    {
     "name": "stdout",
     "output_type": "stream",
     "text": [
      "Pressure at Outlet of Heat Source = 2891.55 psia\n"
     ]
    }
   ],
   "source": [
    "# Using Estimated Length of Tubing connecting compressor and Heat Source, \n",
    "# find the amount of pressure drop caused by fanno flow\n",
    "Length = 19.2024 # [meters]\n",
    "\n",
    "# Force acted on the wall of tube\n",
    "Force = math.pi * Tube_HS_ID * Darcy_f * State_2a.loc['Density [kg/m^3]','State 2a'] * (Velocity**2) * Length / 8 \n",
    "\n",
    "# Dimensionless Friction factor\n",
    "f_dim = 4 * Force / (P2a * math.pi * Tube_HS_ID**2) \n",
    "\n",
    "# Heat Added into system (kW)\n",
    "Q = 18\n",
    "\n",
    "# Dimensionless heating factor\n",
    "q_dim = Q * 1000 / (m_dot * State_2a.loc['Enthalpy [J/kg]','State 2a'])\n",
    "\n",
    "# Inlet Mach Number of length of tubing\n",
    "Mach_inlet = Velocity / State_2a.loc['Speed of Sound','State 2a']\n",
    "\n",
    "# Formulation used to calculate Pressure drop (found in Adv. Fluid Mechanics Textbook)\n",
    "A_eq = ((Mach_inlet**2) * (1 + ((State_2a.loc['CP/CV','State 2a'] - 1) / 2) * (Mach_inlet**2) + q_dim)) \\\n",
    "        / ((1 + State_2a.loc['CP/CV','State 2a'] * (Mach_inlet**2) - f_dim)**2)\n",
    "\n",
    "# Either Mach numbers will be negative. Use the positive value in the following calculations\n",
    "Mach_outlet_1 = math.sqrt((-1 * (1 - 2 * A_eq * State_2a.loc['CP/CV','State 2a'])\\\n",
    "                          + ((1 + 2 * A_eq * (State_2a.loc['CP/CV','State 2a'] + 1))**0.5))\\\n",
    "                         / ((State_2a.loc['CP/CV','State 2a'] - 1) - 2 * A_eq * State_2a.loc['CP/CV','State 2a']**2))\n",
    "#Mach_outlet_2 = math.sqrt((-1 * (1 - 2 * A_eq * State_1.loc['CP/CV','State 1'])\\\n",
    "#                          - ((1 + 2 * A_eq * (State_1.loc['CP/CV','State 1'] + 1))**0.5))\\\n",
    "#                         / ((State_1.loc['CP/CV','State 1'] - 1) - 2 * A_eq * State_1.loc['CP/CV','State 1']**2))\n",
    "\n",
    "# Find Outlet pressure caused by fanno flow (frictional loss)\n",
    "P2b = P2a * (1 + State_2a.loc['CP/CV','State 2a'] * (Mach_inlet**2) - f_dim) / (1 + State_2a.loc['CP/CV','State 2a']\\\n",
    "                                                                           * (Mach_outlet_1**2))\n",
    "\n",
    "print(\"Pressure at Outlet of Heat Source =\", round(P2b/6894.8 , 3), \"psia\")"
   ]
  },
  {
   "cell_type": "code",
   "execution_count": 14,
   "id": "1d27c21a-8cf8-4fab-a78f-ebc10026276e",
   "metadata": {},
   "outputs": [
    {
     "data": {
      "text/plain": [
       "416655.21169168595"
      ]
     },
     "execution_count": 14,
     "metadata": {},
     "output_type": "execute_result"
    }
   ],
   "source": [
    "# Find the enthalpy at the outlet of the Heat source\n",
    "Enth_2b = (State_2a.loc['Enthalpy [J/kg]','State 2a'] * (1 + ((State_2a.loc['CP/CV','State 2a'] - 1) / 2) * Mach_inlet**2 + q_dim)) / \\\n",
    "            (1 + ((State_2a.loc['CP/CV','State 2a'] - 1) / 2) * (Mach_outlet_1**2))\n",
    "\n",
    "Enth_2b # [J/kg]"
   ]
  },
  {
   "cell_type": "markdown",
   "id": "711c7c7a-2e98-4dff-a54a-b4370fe42425",
   "metadata": {},
   "source": [
    "#### Outlet of Heat Source (State 2b)"
   ]
  },
  {
   "cell_type": "code",
   "execution_count": 15,
   "id": "798382fd-b02d-4eb5-9bb5-e38d05108ee9",
   "metadata": {},
   "outputs": [
    {
     "data": {
      "text/html": [
       "<div>\n",
       "<style scoped>\n",
       "    .dataframe tbody tr th:only-of-type {\n",
       "        vertical-align: middle;\n",
       "    }\n",
       "\n",
       "    .dataframe tbody tr th {\n",
       "        vertical-align: top;\n",
       "    }\n",
       "\n",
       "    .dataframe thead th {\n",
       "        text-align: right;\n",
       "    }\n",
       "</style>\n",
       "<table border=\"1\" class=\"dataframe\">\n",
       "  <thead>\n",
       "    <tr style=\"text-align: right;\">\n",
       "      <th></th>\n",
       "      <th>State 2b</th>\n",
       "    </tr>\n",
       "  </thead>\n",
       "  <tbody>\n",
       "    <tr>\n",
       "      <th>Temperature [K]</th>\n",
       "      <td>368.988576</td>\n",
       "    </tr>\n",
       "    <tr>\n",
       "      <th>Density [kg/m^3]</th>\n",
       "      <td>499.670747</td>\n",
       "    </tr>\n",
       "    <tr>\n",
       "      <th>Volume [m^3/kg]</th>\n",
       "      <td>0.002001</td>\n",
       "    </tr>\n",
       "    <tr>\n",
       "      <th>Entropy [J/kg]</th>\n",
       "      <td>1609.409486</td>\n",
       "    </tr>\n",
       "    <tr>\n",
       "      <th>CP/CV</th>\n",
       "      <td>2.656505</td>\n",
       "    </tr>\n",
       "    <tr>\n",
       "      <th>Speed of Sound</th>\n",
       "      <td>317.117582</td>\n",
       "    </tr>\n",
       "    <tr>\n",
       "      <th>Thermal Cond. [W/(mK)]</th>\n",
       "      <td>0.056640</td>\n",
       "    </tr>\n",
       "    <tr>\n",
       "      <th>Viscosity [Pa-s]</th>\n",
       "      <td>0.000038</td>\n",
       "    </tr>\n",
       "    <tr>\n",
       "      <th>Prandtl</th>\n",
       "      <td>1.621379</td>\n",
       "    </tr>\n",
       "  </tbody>\n",
       "</table>\n",
       "</div>"
      ],
      "text/plain": [
       "                           State 2b\n",
       "Temperature [K]          368.988576\n",
       "Density [kg/m^3]         499.670747\n",
       "Volume [m^3/kg]            0.002001\n",
       "Entropy [J/kg]          1609.409486\n",
       "CP/CV                      2.656505\n",
       "Speed of Sound           317.117582\n",
       "Thermal Cond. [W/(mK)]     0.056640\n",
       "Viscosity [Pa-s]           0.000038\n",
       "Prandtl                    1.621379"
      ]
     },
     "execution_count": 15,
     "metadata": {},
     "output_type": "execute_result"
    }
   ],
   "source": [
    "# Using the new Pressure and enthalpy find the states of the fluid at the outlet of Heat Source\n",
    "\n",
    "State_2b = RP.REFPROPdll(\"CO2\",\"PH\",\"T;D;V;S;CP/CV;W;TCX;VIS;PRANDTL\", MASS_BASE_SI,0,0,P2b,Enth_2b,[1.0])\n",
    "\n",
    "# Outputs will be placed into data frame for organization\n",
    "State_2b = pd.DataFrame(State_2b.Output[0:9],\n",
    "            index = ['Temperature [K]', 'Density [kg/m^3]', 'Volume [m^3/kg]', 'Entropy [J/kg]',\n",
    "                     'CP/CV', 'Speed of Sound', 'Thermal Cond. [W/(mK)]', 'Viscosity [Pa-s]', 'Prandtl'],\n",
    "            columns = ['State 2b'])\n",
    "\n",
    "# Display the data frame\n",
    "State_2b"
   ]
  },
  {
   "cell_type": "code",
   "execution_count": 16,
   "id": "e86b0fba-0718-45c0-bbd2-9fef7e694bc4",
   "metadata": {},
   "outputs": [],
   "source": [
    "# Add enthalpy to the data frame\n",
    "State_2b.loc['Enthalpy [J/kg]', 'State 2b'] = Enth_2b"
   ]
  },
  {
   "cell_type": "code",
   "execution_count": 17,
   "id": "2b3da427-6eaa-4a63-93ce-9bcf7066c7e9",
   "metadata": {},
   "outputs": [],
   "source": [
    "# Find Velocity, Reynolds Number, and darcy friction factor (assuming smooth pipe)\n",
    "Velocity = 4 * m_dot * State_2b.loc['Volume [m^3/kg]','State 2b'] / (math.pi * Tube_ID**2)\n",
    "Reynolds = State_2b.loc['Density [kg/m^3]','State 2b'] * Velocity * Tube_ID / State_2b.loc['Viscosity [Pa-s]','State 2b']\n",
    "Darcy_f = (0.79 * math.log(Reynolds) - 1.64)**(-2)"
   ]
  },
  {
   "cell_type": "code",
   "execution_count": 18,
   "id": "9db1722e-4e01-4f51-9502-b12e39c33fb7",
   "metadata": {},
   "outputs": [
    {
     "name": "stdout",
     "output_type": "stream",
     "text": [
      "Pressure at Inlet of Engine = 2876.727 psia\n"
     ]
    }
   ],
   "source": [
    "# Using Estimated Length of Tubing connecting Heat Source and Engine \n",
    "# find the amount of pressure drop caused by fanno flow\n",
    "Length = 2.286 # [meters]\n",
    "\n",
    "# Force acted on the wall of tube\n",
    "Force = math.pi * Tube_ID * Darcy_f * State_2b.loc['Density [kg/m^3]','State 2b'] * (Velocity**2) * Length / 8 \n",
    "\n",
    "# Dimensionless Friction factor\n",
    "f_dim = 4 * Force / (P2b * math.pi * Tube_ID**2) \n",
    "\n",
    "# Heat Added into system (kW)\n",
    "Q = 0\n",
    "\n",
    "# Dimensionless heating factor\n",
    "q_dim = Q * 1000 / (m_dot * State_2b.loc['Enthalpy [J/kg]','State 2b'])\n",
    "\n",
    "# Inlet Mach Number of length of tubing\n",
    "Mach_inlet = Velocity / State_2b.loc['Speed of Sound','State 2b']\n",
    "\n",
    "# Formulation used to calculate Pressure drop (found in Adv. Fluid Mechanics Textbook)\n",
    "A_eq = ((Mach_inlet**2) * (1 + ((State_2b.loc['CP/CV','State 2b'] - 1) / 2) * (Mach_inlet**2) + q_dim)) \\\n",
    "        / ((1 + State_2b.loc['CP/CV','State 2b'] * (Mach_inlet**2) - f_dim)**2)\n",
    "\n",
    "# Either Mach numbers will be negative. Use the positive value in the following calculations\n",
    "Mach_outlet_1 = math.sqrt((-1 * (1 - 2 * A_eq * State_2b.loc['CP/CV','State 2b'])\\\n",
    "                          + ((1 + 2 * A_eq * (State_2b.loc['CP/CV','State 2b'] + 1))**0.5))\\\n",
    "                         / ((State_2b.loc['CP/CV','State 2b'] - 1) - 2 * A_eq * State_2b.loc['CP/CV','State 2b']**2))\n",
    "#Mach_outlet_2 = math.sqrt((-1 * (1 - 2 * A_eq * State_1.loc['CP/CV','State 1'])\\\n",
    "#                          - ((1 + 2 * A_eq * (State_1.loc['CP/CV','State 1'] + 1))**0.5))\\\n",
    "#                         / ((State_1.loc['CP/CV','State 1'] - 1) - 2 * A_eq * State_1.loc['CP/CV','State 1']**2))\n",
    "\n",
    "# Find Outlet pressure caused by fanno flow (frictional loss)\n",
    "P3 = P2b * (1 + State_2b.loc['CP/CV','State 2b'] * (Mach_inlet**2) - f_dim) / (1 + State_2b.loc['CP/CV','State 2b']\\\n",
    "                                                                           * (Mach_outlet_1**2))\n",
    "\n",
    "print(\"Pressure at Inlet of Engine =\", round(P3/6894.8 , 3), \"psia\")"
   ]
  },
  {
   "cell_type": "code",
   "execution_count": null,
   "id": "7886f7e6-2654-4896-b378-ad4c68f8e6be",
   "metadata": {},
   "outputs": [],
   "source": [
    "# Find the enthalpy at the inlet of the Engine\n",
    "Enth_2b = (State_2a.loc['Enthalpy [J/kg]','State 2a'] * (1 + ((State_2a.loc['CP/CV','State 2a'] - 1) / 2) * Mach_inlet**2 + q_dim)) / \\\n",
    "            (1 + ((State_2a.loc['CP/CV','State 2a'] - 1) / 2) * (Mach_outlet_1**2))\n",
    "\n",
    "Enth_2b # [J/kg]"
   ]
  },
  {
   "cell_type": "markdown",
   "id": "091cba0c-94ed-4928-a91c-be7bd5dfd030",
   "metadata": {},
   "source": [
    "#### Inlet of Engine"
   ]
  },
  {
   "cell_type": "code",
   "execution_count": 19,
   "id": "b2ccef87-0e27-47db-9a0d-679c84070f8d",
   "metadata": {},
   "outputs": [
    {
     "data": {
      "text/html": [
       "<div>\n",
       "<style scoped>\n",
       "    .dataframe tbody tr th:only-of-type {\n",
       "        vertical-align: middle;\n",
       "    }\n",
       "\n",
       "    .dataframe tbody tr th {\n",
       "        vertical-align: top;\n",
       "    }\n",
       "\n",
       "    .dataframe thead th {\n",
       "        text-align: right;\n",
       "    }\n",
       "</style>\n",
       "<table border=\"1\" class=\"dataframe\">\n",
       "  <thead>\n",
       "    <tr style=\"text-align: right;\">\n",
       "      <th></th>\n",
       "      <th>State 3</th>\n",
       "    </tr>\n",
       "  </thead>\n",
       "  <tbody>\n",
       "    <tr>\n",
       "      <th>Density [kg/m^3]</th>\n",
       "      <td>496.959469</td>\n",
       "    </tr>\n",
       "    <tr>\n",
       "      <th>Volume [m^3/kg]</th>\n",
       "      <td>0.002012</td>\n",
       "    </tr>\n",
       "    <tr>\n",
       "      <th>Enthalpy [J/kg]</th>\n",
       "      <td>417238.166450</td>\n",
       "    </tr>\n",
       "    <tr>\n",
       "      <th>Entropy [J/kg]</th>\n",
       "      <td>1611.545196</td>\n",
       "    </tr>\n",
       "    <tr>\n",
       "      <th>CP/CV</th>\n",
       "      <td>2.659031</td>\n",
       "    </tr>\n",
       "    <tr>\n",
       "      <th>Speed of Sound</th>\n",
       "      <td>315.930921</td>\n",
       "    </tr>\n",
       "    <tr>\n",
       "      <th>Thermal Cond. [W/(mK)]</th>\n",
       "      <td>0.056409</td>\n",
       "    </tr>\n",
       "    <tr>\n",
       "      <th>Viscosity [Pa-s]</th>\n",
       "      <td>0.000038</td>\n",
       "    </tr>\n",
       "    <tr>\n",
       "      <th>Prandtl</th>\n",
       "      <td>1.620345</td>\n",
       "    </tr>\n",
       "  </tbody>\n",
       "</table>\n",
       "</div>"
      ],
      "text/plain": [
       "                              State 3\n",
       "Density [kg/m^3]           496.959469\n",
       "Volume [m^3/kg]              0.002012\n",
       "Enthalpy [J/kg]         417238.166450\n",
       "Entropy [J/kg]            1611.545196\n",
       "CP/CV                        2.659031\n",
       "Speed of Sound             315.930921\n",
       "Thermal Cond. [W/(mK)]       0.056409\n",
       "Viscosity [Pa-s]             0.000038\n",
       "Prandtl                      1.620345"
      ]
     },
     "execution_count": 19,
     "metadata": {},
     "output_type": "execute_result"
    }
   ],
   "source": [
    "#Pressure and temperature of fluid at inlet of Engine\n",
    "# P3 is found above\n",
    "T3 = State_2b.loc['Temperature [K]', 'State 2b']  # Assume temperature difference from outlet of Heat source to inlet of engine is negligible\n",
    "\n",
    "# Obtain fluid properties from the pressure and temperature outlined above\n",
    "State_3 = RP.REFPROPdll(\"CO2\",\"PT\",\"D;V;H;S;CP/CV;W;TCX;VIS;PRANDTL\", MASS_BASE_SI,0,0,P3,T3,[1.0])\n",
    "\n",
    "# Outputs will be placed into data frame for organization\n",
    "State_3 = pd.DataFrame(State_3.Output[0:9],\n",
    "            index = ['Density [kg/m^3]', 'Volume [m^3/kg]', 'Enthalpy [J/kg]', 'Entropy [J/kg]',\n",
    "                     'CP/CV', 'Speed of Sound', 'Thermal Cond. [W/(mK)]', 'Viscosity [Pa-s]', 'Prandtl'],\n",
    "            columns = ['State 3'])\n",
    "\n",
    "# Display the data frame\n",
    "State_3"
   ]
  },
  {
   "cell_type": "code",
   "execution_count": null,
   "id": "cc90d766-1351-457a-b8b9-a0c93bf02409",
   "metadata": {},
   "outputs": [],
   "source": []
  }
 ],
 "metadata": {
  "kernelspec": {
   "display_name": "Python 3",
   "language": "python",
   "name": "python3"
  },
  "language_info": {
   "codemirror_mode": {
    "name": "ipython",
    "version": 3
   },
   "file_extension": ".py",
   "mimetype": "text/x-python",
   "name": "python",
   "nbconvert_exporter": "python",
   "pygments_lexer": "ipython3",
   "version": "3.8.8"
  }
 },
 "nbformat": 4,
 "nbformat_minor": 5
}
