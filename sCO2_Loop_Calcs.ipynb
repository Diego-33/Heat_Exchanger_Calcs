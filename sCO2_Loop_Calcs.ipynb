{
 "cells": [
  {
   "cell_type": "markdown",
   "id": "a4c21cec-8370-4237-943d-5e57b04f5ead",
   "metadata": {},
   "source": [
    "#### IMPORTANT\n",
    "Ensure you are utilizing 64-bit REFPROP with 64-bit python. If using the free version of REFPROP (MINI-REFPROP), please use 32-bit python and make changes to match the location where MINI-REFPROP is installed and make changes to the REFPROPFunctionLibrary function to read the REFPROP.DLL file.\n",
    "\n",
    "Information on REFPROP and functions can be found here: https://buildmedia.readthedocs.org/media/pdf/refprop-docs/latest/refprop-docs.pdf"
   ]
  },
  {
   "cell_type": "markdown",
   "id": "d862b04f-8370-46a8-83ca-1ad7e45e5536",
   "metadata": {},
   "source": [
    "### IMPORT PACKAGES & FUNCTIONS"
   ]
  },
  {
   "cell_type": "code",
   "execution_count": 1,
   "id": "cc86853f-d099-4544-a430-8ec7a59efe3e",
   "metadata": {},
   "outputs": [],
   "source": [
    "# Dictate the environment's loctaion of REFPROP\n",
    "import os\n",
    "os.environ['RPPREFIX'] = r'C:/Program Files (x86)/REFPROP'"
   ]
  },
  {
   "cell_type": "code",
   "execution_count": 2,
   "id": "cae9cf53-a183-496f-9b32-2a03c9953203",
   "metadata": {},
   "outputs": [],
   "source": [
    "# Import the main class from the Python library\n",
    "from ctREFPROP.ctREFPROP import REFPROPFunctionLibrary\n",
    "\n",
    "# Imports from conda-installable packages\n",
    "import pandas as pd\n",
    "\n",
    "# Import numpy\n",
    "import numpy as np\n",
    "\n",
    "# Import matplotlib for plotting\n",
    "import matplotlib.pyplot as plt\n",
    "\n",
    "# Import Math for common values such as PI\n",
    "import math\n"
   ]
  },
  {
   "cell_type": "code",
   "execution_count": 3,
   "id": "e7659705-3901-427a-a53b-946af5cc27dc",
   "metadata": {},
   "outputs": [],
   "source": [
    "# Instantiate the library, and use the environment variable to explicitly state which path we want to use.\n",
    "# As mentioned above, this will be changed to call the correct REFPROP functions to be used\n",
    "# with MINI-REFPROP and 32-bit python.\n",
    "# If using MINI-REFPROP and 32-bit python please make the following changes\n",
    "# RP = REFPROPFunctionLibrary('C:/Program FIles (x86)/MINI-REFPROP\\\\REFPROP.DLL')\n",
    "RP = REFPROPFunctionLibrary(os.environ['RPPREFIX'])"
   ]
  },
  {
   "cell_type": "code",
   "execution_count": 4,
   "id": "75b01e1f-629a-4008-b501-6465129b1c1f",
   "metadata": {},
   "outputs": [],
   "source": [
    "# This will call which root directory that will be used for the program. \n",
    "RP.SETPATHdll(os.environ['RPPREFIX'])"
   ]
  },
  {
   "cell_type": "code",
   "execution_count": 5,
   "id": "e9893dd2-04f1-40c1-bb5a-548170f3970c",
   "metadata": {},
   "outputs": [],
   "source": [
    "# Get the unit system we want to use (Mass base SI gives units in\n",
    "# K, Pa, kg, m, N, J, W, and s)\n",
    "MASS_BASE_SI = RP.GETENUMdll(0, \"MASS BASE SI\").iEnum"
   ]
  },
  {
   "cell_type": "markdown",
   "id": "12b69d65-0141-40b4-9655-00d86b5daf7e",
   "metadata": {},
   "source": [
    "### sCO2 Loop Calculations"
   ]
  },
  {
   "cell_type": "markdown",
   "id": "2319cc65-41d2-4b9f-8e3d-932af2c8f985",
   "metadata": {},
   "source": [
    "#### System Parameters"
   ]
  },
  {
   "cell_type": "code",
   "execution_count": 6,
   "id": "556cbc06-2a9a-47c7-abf5-484b871c682c",
   "metadata": {},
   "outputs": [],
   "source": [
    "# Tube inner diameter and outer diameter\n",
    "Tube_OD = 0.50 # [inch]\n",
    "Tube_Thick = 0.065 # [inch]\n",
    "Tube_ID = Tube_OD - 2 * Tube_Thick # inch\n",
    "\n",
    "Tube_OD = Tube_OD * 0.0254 # [Convert inches to meters]\n",
    "Tube_ID = Tube_ID * 0.0254 # [Convert inches to meters]\n",
    "\n",
    "# Mass flow rate of sCO2\n",
    "m_dot = 0.2 # [kg/s]"
   ]
  },
  {
   "cell_type": "markdown",
   "id": "28139e4f-10f0-481f-aa62-a0c1a4c390c1",
   "metadata": {},
   "source": [
    "#### Outlet of Compressor (State  1)"
   ]
  },
  {
   "cell_type": "code",
   "execution_count": 7,
   "id": "bb1968cc-905c-40c7-85a3-8d8fd40f3c13",
   "metadata": {},
   "outputs": [
    {
     "name": "stdout",
     "output_type": "stream",
     "text": [
      "Pressure at Outlet of Compressor = 2500.0 psia\n",
      "Temperature at Outlet of Compressor = 140.0 F\n"
     ]
    }
   ],
   "source": [
    "# Temperature will be compared at end of script\n",
    "T1 = 60 # [C]\n",
    "P1 = 2500 # [psia]\n",
    "\n",
    "T1 = T1 + 273.15 # Convert C to Kelvin\n",
    "P1 = P1 * 6894.8 # convert psia to Pa\n",
    "\n",
    "print(\"Pressure at Outlet of Compressor =\", P1/6894.8, \"psia\")\n",
    "print(\"Temperature at Outlet of Compressor =\" , (T1 - 273.15) * (9/5) + 32, \"F\")"
   ]
  },
  {
   "cell_type": "code",
   "execution_count": 8,
   "id": "04b9a0ac-60ba-44dc-b7dd-7a7f733297f2",
   "metadata": {},
   "outputs": [
    {
     "data": {
      "text/html": [
       "<div>\n",
       "<style scoped>\n",
       "    .dataframe tbody tr th:only-of-type {\n",
       "        vertical-align: middle;\n",
       "    }\n",
       "\n",
       "    .dataframe tbody tr th {\n",
       "        vertical-align: top;\n",
       "    }\n",
       "\n",
       "    .dataframe thead th {\n",
       "        text-align: right;\n",
       "    }\n",
       "</style>\n",
       "<table border=\"1\" class=\"dataframe\">\n",
       "  <thead>\n",
       "    <tr style=\"text-align: right;\">\n",
       "      <th></th>\n",
       "      <th>State 1</th>\n",
       "    </tr>\n",
       "  </thead>\n",
       "  <tbody>\n",
       "    <tr>\n",
       "      <th>Density [kg/m^3]</th>\n",
       "      <td>670.303564</td>\n",
       "    </tr>\n",
       "    <tr>\n",
       "      <th>Volume [m^3/kg]</th>\n",
       "      <td>0.001492</td>\n",
       "    </tr>\n",
       "    <tr>\n",
       "      <th>Enthalpy [J/kg]</th>\n",
       "      <td>333792.938415</td>\n",
       "    </tr>\n",
       "    <tr>\n",
       "      <th>Entropy [J/kg]</th>\n",
       "      <td>1386.087141</td>\n",
       "    </tr>\n",
       "    <tr>\n",
       "      <th>CP/CV</th>\n",
       "      <td>3.061084</td>\n",
       "    </tr>\n",
       "    <tr>\n",
       "      <th>Speed of Sound</th>\n",
       "      <td>359.912293</td>\n",
       "    </tr>\n",
       "    <tr>\n",
       "      <th>Thermal Cond. [W/(mK)]</th>\n",
       "      <td>0.072382</td>\n",
       "    </tr>\n",
       "    <tr>\n",
       "      <th>Viscosity [Pa-s]</th>\n",
       "      <td>0.000053</td>\n",
       "    </tr>\n",
       "    <tr>\n",
       "      <th>Prandtl</th>\n",
       "      <td>2.115600</td>\n",
       "    </tr>\n",
       "  </tbody>\n",
       "</table>\n",
       "</div>"
      ],
      "text/plain": [
       "                              State 1\n",
       "Density [kg/m^3]           670.303564\n",
       "Volume [m^3/kg]              0.001492\n",
       "Enthalpy [J/kg]         333792.938415\n",
       "Entropy [J/kg]            1386.087141\n",
       "CP/CV                        3.061084\n",
       "Speed of Sound             359.912293\n",
       "Thermal Cond. [W/(mK)]       0.072382\n",
       "Viscosity [Pa-s]             0.000053\n",
       "Prandtl                      2.115600"
      ]
     },
     "execution_count": 8,
     "metadata": {},
     "output_type": "execute_result"
    }
   ],
   "source": [
    "# Obtain fluid properties from the pressure and temperature outlined above\n",
    "State_1 = RP.REFPROPdll(\"CO2\",\"PT\",\"D;V;H;S;CP/CV;W;TCX;VIS;PRANDTL\", MASS_BASE_SI,0,0,P1,T1,[1.0])\n",
    "\n",
    "# Outputs will be placed into data frame for organization\n",
    "State_1 = pd.DataFrame(State_1.Output[0:9],\n",
    "            index = ['Density [kg/m^3]', 'Volume [m^3/kg]', 'Enthalpy [J/kg]', 'Entropy [J/kg]',\n",
    "                     'CP/CV', 'Speed of Sound', 'Thermal Cond. [W/(mK)]', 'Viscosity [Pa-s]', 'Prandtl'],\n",
    "            columns = ['State 1'])\n",
    "\n",
    "# Display the data frame\n",
    "State_1"
   ]
  },
  {
   "cell_type": "code",
   "execution_count": 9,
   "id": "dd839fdc-3c72-41e9-a19d-395f6a4a9c05",
   "metadata": {},
   "outputs": [],
   "source": [
    "# Find Velocity, Reynolds Number, and darcy friction factor (assuming smooth pipe)\n",
    "Velocity = 4 * m_dot * State_1.loc['Volume [m^3/kg]','State 1'] / (math.pi * Tube_ID**2)\n",
    "Reynolds = State_1.loc['Density [kg/m^3]','State 1'] * Velocity * Tube_ID / State_1.loc['Viscosity [Pa-s]','State 1']\n",
    "Darcy_f = (0.79 * math.log(Reynolds) - 1.64)**(-2)"
   ]
  },
  {
   "cell_type": "code",
   "execution_count": 10,
   "id": "45770152-0747-48f3-bef3-65bfc6ddce99",
   "metadata": {},
   "outputs": [
    {
     "name": "stdout",
     "output_type": "stream",
     "text": [
      "Pressure at Inlet of Heat Source = 2491.034 psia\n",
      "Temperature at Inlet of Heat Source = 140.0 F\n"
     ]
    }
   ],
   "source": [
    "# Using Estimated Length of Tubing connecting compressor and Heat Source, \n",
    "# find the amount of pressure drop caused by fanno flow\n",
    "Length = 3.71475 # [meters]\n",
    "\n",
    "# Force acted on the wall of tube\n",
    "Force = math.pi * Tube_ID * Darcy_f * State_1.loc['Density [kg/m^3]','State 1'] * (Velocity**2) * Length / 8 \n",
    "\n",
    "# Dimensionless Friction factor\n",
    "f_dim = 4 * Force / (P1 * math.pi * Tube_ID**2) \n",
    "\n",
    "# Inlet Mach Number of length of tubing\n",
    "Mach_inlet = Velocity / State_1.loc['Speed of Sound','State 1']\n",
    "\n",
    "# Formulation used to calculate Pressure drop (found in Adv. Fluid Mechanics Textbook)\n",
    "A_eq = ((Mach_inlet**2) * (1 + ((State_1.loc['CP/CV','State 1'] - 1) / 2) * (Mach_inlet**2))) \\\n",
    "        / ((1 + State_1.loc['CP/CV','State 1'] * (Mach_inlet**2) - f_dim)**2)\n",
    "\n",
    "# Either Mach numbers will be negative. Use the positive value in the following calculations\n",
    "Mach_outlet_1 = math.sqrt((-1 * (1 - 2 * A_eq * State_1.loc['CP/CV','State 1'])\\\n",
    "                          + ((1 + 2 * A_eq * (State_1.loc['CP/CV','State 1'] + 1))**0.5))\\\n",
    "                         / ((State_1.loc['CP/CV','State 1'] - 1) - 2 * A_eq * State_1.loc['CP/CV','State 1']**2))\n",
    "#Mach_outlet_2 = math.sqrt((-1 * (1 - 2 * A_eq * State_1.loc['CP/CV','State 1'])\\\n",
    "#                          - ((1 + 2 * A_eq * (State_1.loc['CP/CV','State 1'] + 1))**0.5))\\\n",
    "#                         / ((State_1.loc['CP/CV','State 1'] - 1) - 2 * A_eq * State_1.loc['CP/CV','State 1']**2))\n",
    "\n",
    "# Find Outlet pressure caused by fanno flow (frictional loss)\n",
    "P2 = P1 * (1 + State_1.loc['CP/CV','State 1'] * (Mach_inlet**2) - f_dim) / (1 + State_1.loc['CP/CV','State 1']\\\n",
    "                                                                           * (Mach_outlet_1**2))\n",
    "\n",
    "print(\"Pressure at Inlet of Heat Source =\", round(P2/6894.8 , 3), \"psia\")\n",
    "print(\"Temperature at Inlet of Heat Source =\" , (T1 - 273.15) * (9/5) + 32, \"F\")"
   ]
  },
  {
   "cell_type": "code",
   "execution_count": null,
   "id": "214e44a8-ef3f-4591-8e5a-e2ac714abb8e",
   "metadata": {},
   "outputs": [],
   "source": []
  },
  {
   "cell_type": "code",
   "execution_count": null,
   "id": "7aefce92-bc34-4440-99ef-8ef91d7aff4d",
   "metadata": {},
   "outputs": [],
   "source": []
  },
  {
   "cell_type": "code",
   "execution_count": null,
   "id": "bd52ffec-39a3-4670-8b45-588c32ef41ea",
   "metadata": {},
   "outputs": [],
   "source": []
  }
 ],
 "metadata": {
  "kernelspec": {
   "display_name": "Python 3",
   "language": "python",
   "name": "python3"
  },
  "language_info": {
   "codemirror_mode": {
    "name": "ipython",
    "version": 3
   },
   "file_extension": ".py",
   "mimetype": "text/x-python",
   "name": "python",
   "nbconvert_exporter": "python",
   "pygments_lexer": "ipython3",
   "version": "3.8.8"
  }
 },
 "nbformat": 4,
 "nbformat_minor": 5
}
