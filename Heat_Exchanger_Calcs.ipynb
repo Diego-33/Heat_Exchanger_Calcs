{
 "cells": [
  {
   "cell_type": "markdown",
   "id": "52074545-ab1c-492d-9934-b01895514c7a",
   "metadata": {},
   "source": [
    "#### IMPORTANT\n",
    "Ensure you are utilizing 64-bit REFPROP with 64-bit python. If using the free version of REFPROP (MINI-REFPROP), please use 32-bit python and make changes to match the location where MINI-REFPROP is installed and make changes to the REFPROPFunctionLibrary function to read the REFPROP.DLL file.\n",
    "\n",
    "Information on REFPROP and functions can be found here: https://buildmedia.readthedocs.org/media/pdf/refprop-docs/latest/refprop-docs.pdf"
   ]
  },
  {
   "cell_type": "markdown",
   "id": "bcca0211-99ef-4713-bb15-129aff9224a6",
   "metadata": {},
   "source": [
    "### IMPORT PACKAGES & FUNCTIONS"
   ]
  },
  {
   "cell_type": "code",
   "execution_count": 1,
   "id": "c5dd9f4b-1490-4781-a495-5cf37dab72ad",
   "metadata": {},
   "outputs": [],
   "source": [
    "# Dictate the environment's loctaion of REFPROP\n",
    "import os\n",
    "os.environ['RPPREFIX'] = r'C:/Program Files (x86)/REFPROP'"
   ]
  },
  {
   "cell_type": "code",
   "execution_count": 2,
   "id": "7b6a42e9-c0cd-4cb5-9e91-4a31c52cfa7f",
   "metadata": {},
   "outputs": [],
   "source": [
    "# Import the main class from the Python library\n",
    "from ctREFPROP.ctREFPROP import REFPROPFunctionLibrary\n",
    "\n",
    "# Imports from conda-installable packages\n",
    "import pandas as pd\n",
    "\n",
    "# Import numpy\n",
    "import numpy as np\n",
    "\n",
    "# Import matplotlib for plotting\n",
    "import matplotlib.pyplot as plt\n",
    "\n",
    "# Import Math for common values such as PI\n",
    "import math\n"
   ]
  },
  {
   "cell_type": "code",
   "execution_count": 3,
   "id": "eade5305-36a0-40de-9b3f-104e9a0f380f",
   "metadata": {},
   "outputs": [],
   "source": [
    "# Instantiate the library, and use the environment variable to explicitly state which path we want to use.\n",
    "# As mentioned above, this will be changed to call the correct REFPROP functions to be used\n",
    "# with MINI-REFPROP and 32-bit python.\n",
    "# If using MINI-REFPROP and 32-bit python please make the following changes\n",
    "# RP = REFPROPFunctionLibrary('C:/Program FIles (x86)/MINI-REFPROP\\\\REFPROP.DLL')\n",
    "RP = REFPROPFunctionLibrary(os.environ['RPPREFIX'])"
   ]
  },
  {
   "cell_type": "code",
   "execution_count": 4,
   "id": "08327e6d-d11a-454f-9a47-9f30ea61691d",
   "metadata": {},
   "outputs": [],
   "source": [
    "# This will call which root directory that will be used for the program. \n",
    "RP.SETPATHdll(os.environ['RPPREFIX'])"
   ]
  },
  {
   "cell_type": "code",
   "execution_count": 5,
   "id": "56efeb7f-6f75-4ff8-8b20-8ea9862410c7",
   "metadata": {},
   "outputs": [],
   "source": [
    "# Get the unit system we want to use (Mass base SI gives units in\n",
    "# K, Pa, kg, m, N, J, W, and s)\n",
    "MASS_BASE_SI = RP.GETENUMdll(0, \"MASS BASE SI\").iEnum"
   ]
  },
  {
   "cell_type": "markdown",
   "id": "bf8a1030-725e-422d-92b1-ed94bbd82966",
   "metadata": {},
   "source": [
    "### HEAT EXCHANGER CALCS"
   ]
  },
  {
   "cell_type": "markdown",
   "id": "866f28f9-1a38-4ff4-a014-c928deb8b328",
   "metadata": {},
   "source": [
    "#### Design Parameters of Heat Exchanger"
   ]
  },
  {
   "cell_type": "code",
   "execution_count": 6,
   "id": "504b9cd0-43f7-4788-a4d2-e49141939ba6",
   "metadata": {},
   "outputs": [
    {
     "name": "stdout",
     "output_type": "stream",
     "text": [
      "Hydraulic Diameter = 0.046304200000000004 meters\n"
     ]
    }
   ],
   "source": [
    "# Outline the parameters of the Heat Exchanger (i.e. Tube ID & OD, Pipe ID & OD, Mass Flow rates)\n",
    "Tube_OD = 0.50 # [inch]\n",
    "Tube_ID = 0.402 # [inch]\n",
    "\n",
    "Tube_OD = Tube_OD * 0.0254 # [Convert inches to meters]\n",
    "Tube_ID = Tube_ID * 0.0254 # [Convert inches to meters]\n",
    "\n",
    "Pipe_ID = 2.323 # [Inch]\n",
    "Pipe_ID = Pipe_ID * 0.0254 # [Convert inches to meters]\n",
    "\n",
    "# Calculate the Hydraulic Diameter of Heat Exchanger\n",
    "Hyd_Dia = (((math.pi) * Pipe_ID**2 / 4) - ((math.pi) * Tube_OD**2 / 4)) * 4 / ((math.pi) * Tube_OD + (math.pi) * Pipe_ID) # [meters]\n",
    "\n",
    "print(\"Hydraulic Diameter =\" , Hyd_Dia, \"meters\")\n",
    "\n",
    "# Mass Flow rate of sCO2\n",
    "m_dot_sCO2 = 0.20 # (kg/s)\n",
    "\n",
    "# Thermal Conductivity of the 316 S.S. tube [W/(m*K)]\n",
    "Tube_Therm = 13.4\n",
    "\n",
    "# Thermal Resistance of the Tube\n",
    "#R_cond = (math.log((Tube_OD/2)/(Tube_ID/2))) / Tube_Therm # [(m*K)/W]"
   ]
  },
  {
   "cell_type": "markdown",
   "id": "494c11ee-6f2a-45c3-baa2-f5f6c8fcae59",
   "metadata": {},
   "source": [
    "#### sCO2 Properties"
   ]
  },
  {
   "cell_type": "code",
   "execution_count": 7,
   "id": "567ea832-a6bc-4383-a21e-2b4dfa181472",
   "metadata": {},
   "outputs": [],
   "source": [
    "# Specify inlet conditions\n",
    "\n",
    "P_in = 1219.981 # [psia]\n",
    "\n",
    "P_in = P_in * 6894.8 # convert psi to Pa\n",
    "T_in = 313.578902 # Kelvin"
   ]
  },
  {
   "cell_type": "code",
   "execution_count": 8,
   "id": "6ebeda08-e188-4395-b7ff-b7cfa4ca1d32",
   "metadata": {},
   "outputs": [
    {
     "data": {
      "text/html": [
       "<div>\n",
       "<style scoped>\n",
       "    .dataframe tbody tr th:only-of-type {\n",
       "        vertical-align: middle;\n",
       "    }\n",
       "\n",
       "    .dataframe tbody tr th {\n",
       "        vertical-align: top;\n",
       "    }\n",
       "\n",
       "    .dataframe thead th {\n",
       "        text-align: right;\n",
       "    }\n",
       "</style>\n",
       "<table border=\"1\" class=\"dataframe\">\n",
       "  <thead>\n",
       "    <tr style=\"text-align: right;\">\n",
       "      <th></th>\n",
       "      <th>Inlet sCO2</th>\n",
       "    </tr>\n",
       "  </thead>\n",
       "  <tbody>\n",
       "    <tr>\n",
       "      <th>Density [kg/m^3]</th>\n",
       "      <td>328.196445</td>\n",
       "    </tr>\n",
       "    <tr>\n",
       "      <th>Enthalpy [J/kg]</th>\n",
       "      <td>387035.221873</td>\n",
       "    </tr>\n",
       "    <tr>\n",
       "      <th>Entropy [J/kg]</th>\n",
       "      <td>1602.827724</td>\n",
       "    </tr>\n",
       "    <tr>\n",
       "      <th>Thermal Cond. [W/(mK)]</th>\n",
       "      <td>0.052792</td>\n",
       "    </tr>\n",
       "    <tr>\n",
       "      <th>Viscosity [Pa-s]</th>\n",
       "      <td>0.000024</td>\n",
       "    </tr>\n",
       "    <tr>\n",
       "      <th>Prandtl</th>\n",
       "      <td>3.357427</td>\n",
       "    </tr>\n",
       "  </tbody>\n",
       "</table>\n",
       "</div>"
      ],
      "text/plain": [
       "                           Inlet sCO2\n",
       "Density [kg/m^3]           328.196445\n",
       "Enthalpy [J/kg]         387035.221873\n",
       "Entropy [J/kg]            1602.827724\n",
       "Thermal Cond. [W/(mK)]       0.052792\n",
       "Viscosity [Pa-s]             0.000024\n",
       "Prandtl                      3.357427"
      ]
     },
     "execution_count": 8,
     "metadata": {},
     "output_type": "execute_result"
    }
   ],
   "source": [
    "# Obtain fluid properties from inlet conditions\n",
    "\n",
    "sCO2_inlet = RP.REFPROPdll(\"CO2\",\"PT\",\"D;H;S;TCX;VIS;PRANDTL\", MASS_BASE_SI,0,0,P_in,T_in,[1.0])\n",
    "\n",
    "# Outputs will be placed into data frame for organization\n",
    "sCO2_inlet = pd.DataFrame(sCO2_inlet.Output[0:6],\n",
    "            index = ['Density [kg/m^3]', 'Enthalpy [J/kg]', 'Entropy [J/kg]',\n",
    "                     'Thermal Cond. [W/(mK)]', 'Viscosity [Pa-s]', 'Prandtl'],\n",
    "            columns = ['Inlet sCO2'])\n",
    "\n",
    "# Display the data frame\n",
    "sCO2_inlet"
   ]
  },
  {
   "cell_type": "code",
   "execution_count": 9,
   "id": "5d479345-5da4-4dbf-9ee4-91b90ce035ca",
   "metadata": {},
   "outputs": [],
   "source": [
    "# Specify the desired outlet conditons \n",
    "\n",
    "P_out = 1200.924 # [psia] (This value is estimated and will be found later)\n",
    "T_out = 36.5 # [Celsius]\n",
    "\n",
    "P_out = P_out * 6894.8 # convert psi to Pa\n",
    "T_out = T_out + 273.15 # convert Celsius to Kelvin"
   ]
  },
  {
   "cell_type": "code",
   "execution_count": 10,
   "id": "f9d002de-d5de-4f86-aa87-1c2dd98e3975",
   "metadata": {},
   "outputs": [
    {
     "data": {
      "text/html": [
       "<div>\n",
       "<style scoped>\n",
       "    .dataframe tbody tr th:only-of-type {\n",
       "        vertical-align: middle;\n",
       "    }\n",
       "\n",
       "    .dataframe tbody tr th {\n",
       "        vertical-align: top;\n",
       "    }\n",
       "\n",
       "    .dataframe thead th {\n",
       "        text-align: right;\n",
       "    }\n",
       "</style>\n",
       "<table border=\"1\" class=\"dataframe\">\n",
       "  <thead>\n",
       "    <tr style=\"text-align: right;\">\n",
       "      <th></th>\n",
       "      <th>Outlet sCO2</th>\n",
       "    </tr>\n",
       "  </thead>\n",
       "  <tbody>\n",
       "    <tr>\n",
       "      <th>Density [kg/m^3]</th>\n",
       "      <td>444.406078</td>\n",
       "    </tr>\n",
       "    <tr>\n",
       "      <th>Enthalpy [J/kg]</th>\n",
       "      <td>348226.425061</td>\n",
       "    </tr>\n",
       "    <tr>\n",
       "      <th>Entropy [J/kg]</th>\n",
       "      <td>1479.268644</td>\n",
       "    </tr>\n",
       "    <tr>\n",
       "      <th>Thermal Cond. [W/(mK)]</th>\n",
       "      <td>0.080422</td>\n",
       "    </tr>\n",
       "    <tr>\n",
       "      <th>Viscosity [Pa-s]</th>\n",
       "      <td>0.000031</td>\n",
       "    </tr>\n",
       "    <tr>\n",
       "      <th>Prandtl</th>\n",
       "      <td>8.804715</td>\n",
       "    </tr>\n",
       "  </tbody>\n",
       "</table>\n",
       "</div>"
      ],
      "text/plain": [
       "                          Outlet sCO2\n",
       "Density [kg/m^3]           444.406078\n",
       "Enthalpy [J/kg]         348226.425061\n",
       "Entropy [J/kg]            1479.268644\n",
       "Thermal Cond. [W/(mK)]       0.080422\n",
       "Viscosity [Pa-s]             0.000031\n",
       "Prandtl                      8.804715"
      ]
     },
     "execution_count": 10,
     "metadata": {},
     "output_type": "execute_result"
    }
   ],
   "source": [
    "# Obtain fluid properties from the desired outlet conditions\n",
    "\n",
    "sCO2_outlet = RP.REFPROPdll(\"CO2\",\"PT\",\"D;H;S;TCX;VIS;PRANDTL\", MASS_BASE_SI,0,0,P_out,T_out,[1.0])\n",
    "\n",
    "# Outputs will be placed into data frame for organization\n",
    "sCO2_outlet = pd.DataFrame(sCO2_outlet.Output[0:6],\n",
    "            index = ['Density [kg/m^3]', 'Enthalpy [J/kg]', 'Entropy [J/kg]',\n",
    "                     'Thermal Cond. [W/(mK)]', 'Viscosity [Pa-s]', 'Prandtl'],\n",
    "            columns = ['Outlet sCO2'])\n",
    "\n",
    "# Display the data frame\n",
    "sCO2_outlet"
   ]
  },
  {
   "cell_type": "code",
   "execution_count": 11,
   "id": "27d172ef-5e0f-43fa-af95-fe1fba473670",
   "metadata": {},
   "outputs": [
    {
     "data": {
      "text/html": [
       "<div>\n",
       "<style scoped>\n",
       "    .dataframe tbody tr th:only-of-type {\n",
       "        vertical-align: middle;\n",
       "    }\n",
       "\n",
       "    .dataframe tbody tr th {\n",
       "        vertical-align: top;\n",
       "    }\n",
       "\n",
       "    .dataframe thead th {\n",
       "        text-align: right;\n",
       "    }\n",
       "</style>\n",
       "<table border=\"1\" class=\"dataframe\">\n",
       "  <thead>\n",
       "    <tr style=\"text-align: right;\">\n",
       "      <th></th>\n",
       "      <th>Inlet sCO2</th>\n",
       "      <th>Outlet sCO2</th>\n",
       "    </tr>\n",
       "  </thead>\n",
       "  <tbody>\n",
       "    <tr>\n",
       "      <th>Density [kg/m^3]</th>\n",
       "      <td>328.196445</td>\n",
       "      <td>444.406078</td>\n",
       "    </tr>\n",
       "    <tr>\n",
       "      <th>Enthalpy [J/kg]</th>\n",
       "      <td>387035.221873</td>\n",
       "      <td>348226.425061</td>\n",
       "    </tr>\n",
       "    <tr>\n",
       "      <th>Entropy [J/kg]</th>\n",
       "      <td>1602.827724</td>\n",
       "      <td>1479.268644</td>\n",
       "    </tr>\n",
       "    <tr>\n",
       "      <th>Thermal Cond. [W/(mK)]</th>\n",
       "      <td>0.052792</td>\n",
       "      <td>0.080422</td>\n",
       "    </tr>\n",
       "    <tr>\n",
       "      <th>Viscosity [Pa-s]</th>\n",
       "      <td>0.000024</td>\n",
       "      <td>0.000031</td>\n",
       "    </tr>\n",
       "    <tr>\n",
       "      <th>Prandtl</th>\n",
       "      <td>3.357427</td>\n",
       "      <td>8.804715</td>\n",
       "    </tr>\n",
       "  </tbody>\n",
       "</table>\n",
       "</div>"
      ],
      "text/plain": [
       "                           Inlet sCO2    Outlet sCO2\n",
       "Density [kg/m^3]           328.196445     444.406078\n",
       "Enthalpy [J/kg]         387035.221873  348226.425061\n",
       "Entropy [J/kg]            1602.827724    1479.268644\n",
       "Thermal Cond. [W/(mK)]       0.052792       0.080422\n",
       "Viscosity [Pa-s]             0.000024       0.000031\n",
       "Prandtl                      3.357427       8.804715"
      ]
     },
     "execution_count": 11,
     "metadata": {},
     "output_type": "execute_result"
    }
   ],
   "source": [
    "# Combine both data frames (will be used to call data for analysis)\n",
    "sCO2 = pd.concat([sCO2_inlet, sCO2_outlet], axis =1)\n",
    "\n",
    "# Display the data frame to ensure proper layout\n",
    "sCO2"
   ]
  },
  {
   "cell_type": "code",
   "execution_count": 12,
   "id": "a9324dd8-60c8-4ce9-8df7-857609c93701",
   "metadata": {},
   "outputs": [],
   "source": [
    "# Find fluid properties at the mean temperature\n",
    "P_mean = (P_in + P_out)/2 # [Pa] \n",
    "T_mean = (T_in + T_out)/2 # [Kelvin]\n"
   ]
  },
  {
   "cell_type": "code",
   "execution_count": 13,
   "id": "f9d1a287-6f02-460a-b6d3-a0f78ad6794f",
   "metadata": {},
   "outputs": [
    {
     "data": {
      "text/html": [
       "<div>\n",
       "<style scoped>\n",
       "    .dataframe tbody tr th:only-of-type {\n",
       "        vertical-align: middle;\n",
       "    }\n",
       "\n",
       "    .dataframe tbody tr th {\n",
       "        vertical-align: top;\n",
       "    }\n",
       "\n",
       "    .dataframe thead th {\n",
       "        text-align: right;\n",
       "    }\n",
       "</style>\n",
       "<table border=\"1\" class=\"dataframe\">\n",
       "  <thead>\n",
       "    <tr style=\"text-align: right;\">\n",
       "      <th></th>\n",
       "      <th>Mean sCO2</th>\n",
       "    </tr>\n",
       "  </thead>\n",
       "  <tbody>\n",
       "    <tr>\n",
       "      <th>Density [kg/m^3]</th>\n",
       "      <td>363.215224</td>\n",
       "    </tr>\n",
       "    <tr>\n",
       "      <th>Enthalpy [J/kg]</th>\n",
       "      <td>373505.981139</td>\n",
       "    </tr>\n",
       "    <tr>\n",
       "      <th>Entropy [J/kg]</th>\n",
       "      <td>1560.148898</td>\n",
       "    </tr>\n",
       "    <tr>\n",
       "      <th>Thermal Cond. [W/(mK)]</th>\n",
       "      <td>0.061933</td>\n",
       "    </tr>\n",
       "    <tr>\n",
       "      <th>Viscosity [Pa-s]</th>\n",
       "      <td>0.000026</td>\n",
       "    </tr>\n",
       "    <tr>\n",
       "      <th>Prandtl</th>\n",
       "      <td>4.703859</td>\n",
       "    </tr>\n",
       "  </tbody>\n",
       "</table>\n",
       "</div>"
      ],
      "text/plain": [
       "                            Mean sCO2\n",
       "Density [kg/m^3]           363.215224\n",
       "Enthalpy [J/kg]         373505.981139\n",
       "Entropy [J/kg]            1560.148898\n",
       "Thermal Cond. [W/(mK)]       0.061933\n",
       "Viscosity [Pa-s]             0.000026\n",
       "Prandtl                      4.703859"
      ]
     },
     "execution_count": 13,
     "metadata": {},
     "output_type": "execute_result"
    }
   ],
   "source": [
    "# Obtain fluid properties from the mean pressure and temperature\n",
    "\n",
    "sCO2_mean = RP.REFPROPdll(\"CO2\",\"PT\",\"D;H;S;TCX;VIS;PRANDTL\", MASS_BASE_SI,0,0,P_mean,T_mean,[1.0])\n",
    "\n",
    "# Outputs will be placed into data frame for organization\n",
    "sCO2_mean = pd.DataFrame(sCO2_mean.Output[0:6],\n",
    "            index = ['Density [kg/m^3]', 'Enthalpy [J/kg]', 'Entropy [J/kg]',\n",
    "                     'Thermal Cond. [W/(mK)]', 'Viscosity [Pa-s]', 'Prandtl'],\n",
    "            columns = ['Mean sCO2'])\n",
    "\n",
    "# Display the data frame\n",
    "sCO2_mean"
   ]
  },
  {
   "cell_type": "code",
   "execution_count": 14,
   "id": "c13306f3-ce98-4562-b9f9-1c81428fcaa3",
   "metadata": {},
   "outputs": [
    {
     "data": {
      "text/html": [
       "<div>\n",
       "<style scoped>\n",
       "    .dataframe tbody tr th:only-of-type {\n",
       "        vertical-align: middle;\n",
       "    }\n",
       "\n",
       "    .dataframe tbody tr th {\n",
       "        vertical-align: top;\n",
       "    }\n",
       "\n",
       "    .dataframe thead th {\n",
       "        text-align: right;\n",
       "    }\n",
       "</style>\n",
       "<table border=\"1\" class=\"dataframe\">\n",
       "  <thead>\n",
       "    <tr style=\"text-align: right;\">\n",
       "      <th></th>\n",
       "      <th>Inlet sCO2</th>\n",
       "      <th>Outlet sCO2</th>\n",
       "      <th>Mean sCO2</th>\n",
       "    </tr>\n",
       "  </thead>\n",
       "  <tbody>\n",
       "    <tr>\n",
       "      <th>Density [kg/m^3]</th>\n",
       "      <td>328.196445</td>\n",
       "      <td>444.406078</td>\n",
       "      <td>363.215224</td>\n",
       "    </tr>\n",
       "    <tr>\n",
       "      <th>Enthalpy [J/kg]</th>\n",
       "      <td>387035.221873</td>\n",
       "      <td>348226.425061</td>\n",
       "      <td>373505.981139</td>\n",
       "    </tr>\n",
       "    <tr>\n",
       "      <th>Entropy [J/kg]</th>\n",
       "      <td>1602.827724</td>\n",
       "      <td>1479.268644</td>\n",
       "      <td>1560.148898</td>\n",
       "    </tr>\n",
       "    <tr>\n",
       "      <th>Thermal Cond. [W/(mK)]</th>\n",
       "      <td>0.052792</td>\n",
       "      <td>0.080422</td>\n",
       "      <td>0.061933</td>\n",
       "    </tr>\n",
       "    <tr>\n",
       "      <th>Viscosity [Pa-s]</th>\n",
       "      <td>0.000024</td>\n",
       "      <td>0.000031</td>\n",
       "      <td>0.000026</td>\n",
       "    </tr>\n",
       "    <tr>\n",
       "      <th>Prandtl</th>\n",
       "      <td>3.357427</td>\n",
       "      <td>8.804715</td>\n",
       "      <td>4.703859</td>\n",
       "    </tr>\n",
       "  </tbody>\n",
       "</table>\n",
       "</div>"
      ],
      "text/plain": [
       "                           Inlet sCO2    Outlet sCO2      Mean sCO2\n",
       "Density [kg/m^3]           328.196445     444.406078     363.215224\n",
       "Enthalpy [J/kg]         387035.221873  348226.425061  373505.981139\n",
       "Entropy [J/kg]            1602.827724    1479.268644    1560.148898\n",
       "Thermal Cond. [W/(mK)]       0.052792       0.080422       0.061933\n",
       "Viscosity [Pa-s]             0.000024       0.000031       0.000026\n",
       "Prandtl                      3.357427       8.804715       4.703859"
      ]
     },
     "execution_count": 14,
     "metadata": {},
     "output_type": "execute_result"
    }
   ],
   "source": [
    "# Combine into the previous data frame\n",
    "sCO2 = pd.concat([sCO2, sCO2_mean], axis =1)\n",
    "\n",
    "# Display the data frame to ensure proper layout\n",
    "sCO2"
   ]
  },
  {
   "cell_type": "code",
   "execution_count": 15,
   "id": "ccdbd112-653a-4f6e-8d04-0af5be4ce793",
   "metadata": {},
   "outputs": [],
   "source": [
    "# Find the velocity at each of the conditions.\n",
    "# This will then be used to find the respective Reynolds Number, Nusselt Number,\n",
    "# and heat transfer coefficient (W/(m^2 * K))\n",
    "\n",
    "Inlet_vel = (4 * m_dot_sCO2) / (sCO2.loc['Density [kg/m^3]', 'Inlet sCO2'] * (math.pi) * Tube_ID**2) # [m/s]\n",
    "Outlet_vel = (4 * m_dot_sCO2) / (sCO2.loc['Density [kg/m^3]', 'Outlet sCO2'] * (math.pi) * Tube_ID**2) # [m/s]\n",
    "Mean_vel = (4 * m_dot_sCO2) / (sCO2.loc['Density [kg/m^3]', 'Mean sCO2'] * (math.pi) * Tube_ID**2) # [m/s]"
   ]
  },
  {
   "cell_type": "code",
   "execution_count": 16,
   "id": "470ab845-e7dd-4d4e-b69d-315b9853e13e",
   "metadata": {},
   "outputs": [],
   "source": [
    "# Find the Reynolds Number\n",
    "Inlet_Rey = sCO2.loc['Density [kg/m^3]', 'Inlet sCO2'] * Inlet_vel * Tube_ID / sCO2.loc['Viscosity [Pa-s]', 'Inlet sCO2']\n",
    "Outlet_Rey = sCO2.loc['Density [kg/m^3]', 'Outlet sCO2'] * Outlet_vel * Tube_ID / sCO2.loc['Viscosity [Pa-s]', 'Outlet sCO2']\n",
    "Mean_Rey = sCO2.loc['Density [kg/m^3]', 'Mean sCO2'] * Mean_vel * Tube_ID / sCO2.loc['Viscosity [Pa-s]', 'Mean sCO2']"
   ]
  },
  {
   "cell_type": "code",
   "execution_count": 17,
   "id": "53df9189-d621-4657-b7da-47d596150002",
   "metadata": {},
   "outputs": [],
   "source": [
    "# Find the Nusselt Number\n",
    "Inlet_Nus = 0.0265 * Inlet_Rey**(4/5) * (sCO2.loc['Prandtl', 'Inlet sCO2'])**(0.3)\n",
    "Outlet_Nus = 0.0265 * Outlet_Rey**(4/5) * (sCO2.loc['Prandtl', 'Outlet sCO2'])**(0.3)\n",
    "Mean_Nus = 0.0265 * Mean_Rey**(4/5) * (sCO2.loc['Prandtl', 'Mean sCO2'])**(0.3)"
   ]
  },
  {
   "cell_type": "code",
   "execution_count": 18,
   "id": "c3791aeb-088a-4b65-86e8-8fa45aeef109",
   "metadata": {},
   "outputs": [],
   "source": [
    "# Using Nusselt Number, find the Heat transfer Coefficient (W/(m^2 * K))\n",
    "Inlet_h_sCO2 = Inlet_Nus * (sCO2.loc['Thermal Cond. [W/(mK)]', 'Inlet sCO2']) / Tube_ID\n",
    "Outlet_h_sCO2 = Outlet_Nus * (sCO2.loc['Thermal Cond. [W/(mK)]', 'Outlet sCO2']) / Tube_ID\n",
    "Mean_h_sCO2 = Mean_Nus * (sCO2.loc['Thermal Cond. [W/(mK)]', 'Mean sCO2']) / Tube_ID"
   ]
  },
  {
   "cell_type": "markdown",
   "id": "77352814-70ec-41c3-8870-bd707ccf85ee",
   "metadata": {},
   "source": [
    "#### Water Properties"
   ]
  },
  {
   "cell_type": "code",
   "execution_count": 19,
   "id": "a1d4dea8-9683-4d9e-99d7-b5b3644c4f60",
   "metadata": {},
   "outputs": [],
   "source": [
    "# Specify inlet conditions\n",
    "\n",
    "P_in_water = 14.7 # [psia]\n",
    "T_in_water = 25 # [Celsius]\n",
    "\n",
    "P_in_water = P_in_water * 6894.8 # convert psi to Pa\n",
    "T_in_water = T_in_water + 273.15 # convert Celsius to Kelvin"
   ]
  },
  {
   "cell_type": "code",
   "execution_count": 20,
   "id": "6914bf19-c367-413e-a511-02a08716af30",
   "metadata": {},
   "outputs": [
    {
     "data": {
      "text/html": [
       "<div>\n",
       "<style scoped>\n",
       "    .dataframe tbody tr th:only-of-type {\n",
       "        vertical-align: middle;\n",
       "    }\n",
       "\n",
       "    .dataframe tbody tr th {\n",
       "        vertical-align: top;\n",
       "    }\n",
       "\n",
       "    .dataframe thead th {\n",
       "        text-align: right;\n",
       "    }\n",
       "</style>\n",
       "<table border=\"1\" class=\"dataframe\">\n",
       "  <thead>\n",
       "    <tr style=\"text-align: right;\">\n",
       "      <th></th>\n",
       "      <th>Inlet Water</th>\n",
       "    </tr>\n",
       "  </thead>\n",
       "  <tbody>\n",
       "    <tr>\n",
       "      <th>Density [kg/m^3]</th>\n",
       "      <td>997.047650</td>\n",
       "    </tr>\n",
       "    <tr>\n",
       "      <th>Enthalpy [J/kg]</th>\n",
       "      <td>104920.146257</td>\n",
       "    </tr>\n",
       "    <tr>\n",
       "      <th>Entropy [J/kg]</th>\n",
       "      <td>367.199635</td>\n",
       "    </tr>\n",
       "    <tr>\n",
       "      <th>Thermal Cond. [W/(mK)]</th>\n",
       "      <td>0.606516</td>\n",
       "    </tr>\n",
       "    <tr>\n",
       "      <th>Viscosity [Pa-s]</th>\n",
       "      <td>0.000890</td>\n",
       "    </tr>\n",
       "    <tr>\n",
       "      <th>Prandtl</th>\n",
       "      <td>6.135805</td>\n",
       "    </tr>\n",
       "  </tbody>\n",
       "</table>\n",
       "</div>"
      ],
      "text/plain": [
       "                          Inlet Water\n",
       "Density [kg/m^3]           997.047650\n",
       "Enthalpy [J/kg]         104920.146257\n",
       "Entropy [J/kg]             367.199635\n",
       "Thermal Cond. [W/(mK)]       0.606516\n",
       "Viscosity [Pa-s]             0.000890\n",
       "Prandtl                      6.135805"
      ]
     },
     "execution_count": 20,
     "metadata": {},
     "output_type": "execute_result"
    }
   ],
   "source": [
    "# Obtain fluid properties from inlet conditions\n",
    "\n",
    "Water_inlet = RP.REFPROPdll(\"Water\",\"PT\",\"D;H;S;TCX;VIS;PRANDTL\", MASS_BASE_SI,0,0,P_in_water,T_in_water,[1.0])\n",
    "\n",
    "# Outputs will be placed into data frame for organization\n",
    "Water_inlet = pd.DataFrame(Water_inlet.Output[0:6],\n",
    "            index = ['Density [kg/m^3]', 'Enthalpy [J/kg]', 'Entropy [J/kg]',\n",
    "                     'Thermal Cond. [W/(mK)]', 'Viscosity [Pa-s]', 'Prandtl'],\n",
    "            columns = ['Inlet Water'])\n",
    "\n",
    "# Display the data frame\n",
    "Water_inlet"
   ]
  },
  {
   "cell_type": "code",
   "execution_count": 21,
   "id": "f8efa918-2f83-4a70-b465-9dd77277f7bf",
   "metadata": {},
   "outputs": [
    {
     "data": {
      "text/plain": [
       "0.9435585358597339"
      ]
     },
     "execution_count": 21,
     "metadata": {},
     "output_type": "execute_result"
    }
   ],
   "source": [
    "# Using Energy Balance, find the outlet Enthalpy of the water at a specified \n",
    "# flow rate of water\n",
    "\n",
    "Flow_water = 15 # gallons per minute of water\n",
    "Flow_water = Flow_water * 0.00378541 # Convert gallons to meters cubed\n",
    "m_dot_water = Flow_water / 60 * Water_inlet.loc['Density [kg/m^3]', 'Inlet Water']\n",
    "m_dot_water"
   ]
  },
  {
   "cell_type": "code",
   "execution_count": 22,
   "id": "72f1b1cb-bc36-4555-b682-f50b2fe7973b",
   "metadata": {},
   "outputs": [
    {
     "data": {
      "text/plain": [
       "113146.19590553152"
      ]
     },
     "execution_count": 22,
     "metadata": {},
     "output_type": "execute_result"
    }
   ],
   "source": [
    "# Conduct Energy Balance and find the outlet enthalpy\n",
    "\n",
    "Water_Outlet_Enth = ((m_dot_sCO2 * (sCO2.loc['Enthalpy [J/kg]', 'Inlet sCO2'] - sCO2.loc['Enthalpy [J/kg]', 'Outlet sCO2']) / m_dot_water + Water_inlet.loc['Enthalpy [J/kg]', 'Inlet Water']))\n",
    "Water_Outlet_Enth # [J/kg]"
   ]
  },
  {
   "cell_type": "code",
   "execution_count": 23,
   "id": "1040d876-55ba-4317-8442-e16927528caa",
   "metadata": {},
   "outputs": [
    {
     "data": {
      "text/html": [
       "<div>\n",
       "<style scoped>\n",
       "    .dataframe tbody tr th:only-of-type {\n",
       "        vertical-align: middle;\n",
       "    }\n",
       "\n",
       "    .dataframe tbody tr th {\n",
       "        vertical-align: top;\n",
       "    }\n",
       "\n",
       "    .dataframe thead th {\n",
       "        text-align: right;\n",
       "    }\n",
       "</style>\n",
       "<table border=\"1\" class=\"dataframe\">\n",
       "  <thead>\n",
       "    <tr style=\"text-align: right;\">\n",
       "      <th></th>\n",
       "      <th>Outlet Water</th>\n",
       "    </tr>\n",
       "  </thead>\n",
       "  <tbody>\n",
       "    <tr>\n",
       "      <th>Temperature [K]</th>\n",
       "      <td>300.117511</td>\n",
       "    </tr>\n",
       "    <tr>\n",
       "      <th>Density [kg/m^3]</th>\n",
       "      <td>996.524703</td>\n",
       "    </tr>\n",
       "    <tr>\n",
       "      <th>Entropy [J/kg]</th>\n",
       "      <td>394.699306</td>\n",
       "    </tr>\n",
       "    <tr>\n",
       "      <th>Thermal Cond. [W/(mK)]</th>\n",
       "      <td>0.609687</td>\n",
       "    </tr>\n",
       "    <tr>\n",
       "      <th>Viscosity [Pa-s]</th>\n",
       "      <td>0.000852</td>\n",
       "    </tr>\n",
       "    <tr>\n",
       "      <th>Prandtl</th>\n",
       "      <td>5.838833</td>\n",
       "    </tr>\n",
       "  </tbody>\n",
       "</table>\n",
       "</div>"
      ],
      "text/plain": [
       "                        Outlet Water\n",
       "Temperature [K]           300.117511\n",
       "Density [kg/m^3]          996.524703\n",
       "Entropy [J/kg]            394.699306\n",
       "Thermal Cond. [W/(mK)]      0.609687\n",
       "Viscosity [Pa-s]            0.000852\n",
       "Prandtl                     5.838833"
      ]
     },
     "execution_count": 23,
     "metadata": {},
     "output_type": "execute_result"
    }
   ],
   "source": [
    "# Obtain fluid properties for outlet conditions\n",
    "\n",
    "Water_outlet = RP.REFPROPdll(\"Water\",\"PH\",\"T;D;S;TCX;VIS;PRANDTL\", MASS_BASE_SI,0,0,P_in_water,Water_Outlet_Enth,[1.0])\n",
    "\n",
    "# Outputs will be placed into data frame for organization\n",
    "Water_outlet = pd.DataFrame(Water_outlet.Output[0:6],\n",
    "            index = ['Temperature [K]', 'Density [kg/m^3]', 'Entropy [J/kg]',\n",
    "                     'Thermal Cond. [W/(mK)]', 'Viscosity [Pa-s]', 'Prandtl'],\n",
    "            columns = ['Outlet Water'])\n",
    "\n",
    "# Display the data frame\n",
    "Water_outlet"
   ]
  },
  {
   "cell_type": "code",
   "execution_count": 24,
   "id": "3cadf775-31e7-468f-af0e-a882ee75f81b",
   "metadata": {},
   "outputs": [
    {
     "data": {
      "text/html": [
       "<div>\n",
       "<style scoped>\n",
       "    .dataframe tbody tr th:only-of-type {\n",
       "        vertical-align: middle;\n",
       "    }\n",
       "\n",
       "    .dataframe tbody tr th {\n",
       "        vertical-align: top;\n",
       "    }\n",
       "\n",
       "    .dataframe thead th {\n",
       "        text-align: right;\n",
       "    }\n",
       "</style>\n",
       "<table border=\"1\" class=\"dataframe\">\n",
       "  <thead>\n",
       "    <tr style=\"text-align: right;\">\n",
       "      <th></th>\n",
       "      <th>Inlet Water</th>\n",
       "      <th>Outlet Water</th>\n",
       "    </tr>\n",
       "  </thead>\n",
       "  <tbody>\n",
       "    <tr>\n",
       "      <th>Density [kg/m^3]</th>\n",
       "      <td>997.047650</td>\n",
       "      <td>996.524703</td>\n",
       "    </tr>\n",
       "    <tr>\n",
       "      <th>Enthalpy [J/kg]</th>\n",
       "      <td>104920.146257</td>\n",
       "      <td>113146.195906</td>\n",
       "    </tr>\n",
       "    <tr>\n",
       "      <th>Entropy [J/kg]</th>\n",
       "      <td>367.199635</td>\n",
       "      <td>394.699306</td>\n",
       "    </tr>\n",
       "    <tr>\n",
       "      <th>Thermal Cond. [W/(mK)]</th>\n",
       "      <td>0.606516</td>\n",
       "      <td>0.609687</td>\n",
       "    </tr>\n",
       "    <tr>\n",
       "      <th>Viscosity [Pa-s]</th>\n",
       "      <td>0.000890</td>\n",
       "      <td>0.000852</td>\n",
       "    </tr>\n",
       "    <tr>\n",
       "      <th>Prandtl</th>\n",
       "      <td>6.135805</td>\n",
       "      <td>5.838833</td>\n",
       "    </tr>\n",
       "    <tr>\n",
       "      <th>Temperature [K]</th>\n",
       "      <td>298.150000</td>\n",
       "      <td>300.117511</td>\n",
       "    </tr>\n",
       "  </tbody>\n",
       "</table>\n",
       "</div>"
      ],
      "text/plain": [
       "                          Inlet Water   Outlet Water\n",
       "Density [kg/m^3]           997.047650     996.524703\n",
       "Enthalpy [J/kg]         104920.146257  113146.195906\n",
       "Entropy [J/kg]             367.199635     394.699306\n",
       "Thermal Cond. [W/(mK)]       0.606516       0.609687\n",
       "Viscosity [Pa-s]             0.000890       0.000852\n",
       "Prandtl                      6.135805       5.838833\n",
       "Temperature [K]            298.150000     300.117511"
      ]
     },
     "execution_count": 24,
     "metadata": {},
     "output_type": "execute_result"
    }
   ],
   "source": [
    "# Combine both data frames (will be used to call data for analysis)\n",
    "Water = pd.concat([Water_inlet, Water_outlet], axis =1)\n",
    "\n",
    "# Add data into the data frame\n",
    "Water.loc['Enthalpy [J/kg]', 'Outlet Water'] = Water_Outlet_Enth\n",
    "Water.loc['Temperature [K]', 'Inlet Water'] = T_in_water\n",
    "# Display the data frame to ensure proper layout\n",
    "Water"
   ]
  },
  {
   "cell_type": "code",
   "execution_count": 25,
   "id": "bdf21838-2d57-43af-bd65-d11c3323feb1",
   "metadata": {},
   "outputs": [
    {
     "data": {
      "text/plain": [
       "0.5621292569192042"
      ]
     },
     "execution_count": 25,
     "metadata": {},
     "output_type": "execute_result"
    }
   ],
   "source": [
    "# Find the mean Velocity of Water flowing\n",
    "Water_vel = 4 * m_dot_water / (((Water.loc['Density [kg/m^3]', 'Inlet Water'] + Water.loc['Density [kg/m^3]', 'Outlet Water'])/2) \\\n",
    "             * math.pi * Hyd_Dia**2)\n",
    "\n",
    "Water_vel # [m/s]"
   ]
  },
  {
   "cell_type": "code",
   "execution_count": 26,
   "id": "db9d660f-e286-4c5d-80b7-4ede4e9213cf",
   "metadata": {},
   "outputs": [
    {
     "data": {
      "text/plain": [
       "29795.78073730924"
      ]
     },
     "execution_count": 26,
     "metadata": {},
     "output_type": "execute_result"
    }
   ],
   "source": [
    "# Find the Reynolds Number\n",
    "Water_Rey = ((Water.loc['Density [kg/m^3]', 'Inlet Water'] + Water.loc['Density [kg/m^3]', 'Outlet Water'])/2) * \\\n",
    "            Water_vel * Hyd_Dia / ((Water.loc['Viscosity [Pa-s]', 'Inlet Water'] + Water.loc['Viscosity [Pa-s]', 'Outlet Water'])/2)\n",
    "\n",
    "Water_Rey"
   ]
  },
  {
   "cell_type": "code",
   "execution_count": 27,
   "id": "c298afb6-a5f9-4b30-a12f-9851cdc86971",
   "metadata": {},
   "outputs": [
    {
     "data": {
      "text/plain": [
       "188.722223452234"
      ]
     },
     "execution_count": 27,
     "metadata": {},
     "output_type": "execute_result"
    }
   ],
   "source": [
    "# Find the Nusselt Number\n",
    "Water_Nus = 0.0243 * Water_Rey**(4/5) * \\\n",
    "            ((Water.loc['Prandtl', 'Inlet Water'] + Water.loc['Prandtl', 'Outlet Water'])/2)**(0.4)\n",
    "\n",
    "Water_Nus"
   ]
  },
  {
   "cell_type": "code",
   "execution_count": 28,
   "id": "426ab1e0-04a4-4fda-b5c8-28d8823a1c52",
   "metadata": {},
   "outputs": [
    {
     "data": {
      "text/plain": [
       "2478.4412021721882"
      ]
     },
     "execution_count": 28,
     "metadata": {},
     "output_type": "execute_result"
    }
   ],
   "source": [
    "# Using Nusselt Number, find the Heat transfer Coefficient (W/(m^2 * K))\n",
    "h_Water = Water_Nus * ((Water.loc['Thermal Cond. [W/(mK)]', 'Inlet Water'] + Water.loc['Thermal Cond. [W/(mK)]', 'Outlet Water'])/2)\\\n",
    "            / Hyd_Dia\n",
    "\n",
    "h_Water"
   ]
  },
  {
   "cell_type": "markdown",
   "id": "27d34ee5-62a4-485b-981e-efc1ec6c0346",
   "metadata": {},
   "source": [
    "#### Analysis of Heat Exchanger"
   ]
  },
  {
   "cell_type": "code",
   "execution_count": 29,
   "id": "f0a82eec-843b-4070-b1ca-423e9f006fd3",
   "metadata": {},
   "outputs": [
    {
     "data": {
      "text/plain": [
       "12.454966198301621"
      ]
     },
     "execution_count": 29,
     "metadata": {},
     "output_type": "execute_result"
    }
   ],
   "source": [
    "# Find the log mean temperature difference\n",
    "Delta_T1 = T_in - Water.loc['Temperature [K]', 'Outlet Water']\n",
    "Delta_T2 = T_out - Water.loc['Temperature [K]', 'Inlet Water']\n",
    "\n",
    "Log_Mean_T = (Delta_T2 - Delta_T1) / math.log(Delta_T2/Delta_T1)\n",
    "Log_Mean_T"
   ]
  },
  {
   "cell_type": "code",
   "execution_count": 30,
   "id": "6a7b79d5-b193-4f68-8dca-598f353fd46f",
   "metadata": {},
   "outputs": [
    {
     "data": {
      "text/plain": [
       "1739.1625666787747"
      ]
     },
     "execution_count": 30,
     "metadata": {},
     "output_type": "execute_result"
    }
   ],
   "source": [
    "# Approximate resistance of the cylindrical tube using the slab formula \n",
    "# L/(kA)\n",
    "\n",
    "Rt_cond_approx = (Tube_OD - Tube_ID) / (2 * Tube_Therm) # [(m^2 * K) / W]\n",
    "Rt_conv_sCO2 = 1 / Inlet_h_sCO2 # [(m^2 * K) / W]\n",
    "Rt_conv_Water = 1 / h_Water\n",
    "\n",
    "U_inlet = 1 / (Rt_cond_approx + Rt_conv_sCO2 + Rt_conv_Water)\n",
    "U_inlet"
   ]
  },
  {
   "cell_type": "code",
   "execution_count": 31,
   "id": "ca1b6c2d-92e0-47da-8acc-f50dadac1b95",
   "metadata": {},
   "outputs": [
    {
     "data": {
      "text/plain": [
       "29.4651664879938"
      ]
     },
     "execution_count": 31,
     "metadata": {},
     "output_type": "execute_result"
    }
   ],
   "source": [
    "# Find the Length of tube neccessary for the Heat Exchanger\n",
    "Length = (m_dot_sCO2 * (sCO2.loc['Enthalpy [J/kg]', 'Inlet sCO2'] - sCO2.loc['Enthalpy [J/kg]', 'Outlet sCO2']))\\\n",
    "          / (U_inlet * Log_Mean_T * math.pi * Tube_OD)\n",
    "\n",
    "Length = Length * 3.28084 # Converts meters to feet\n",
    "Length # This length uses inlet conditions of sCO2 to approximate length in feet"
   ]
  },
  {
   "cell_type": "code",
   "execution_count": 32,
   "id": "5f762ccf-e252-43c4-806b-5e73ec236dc7",
   "metadata": {},
   "outputs": [
    {
     "data": {
      "text/plain": [
       "1840.3973662512558"
      ]
     },
     "execution_count": 32,
     "metadata": {},
     "output_type": "execute_result"
    }
   ],
   "source": [
    "# Approximate resistance of the cylindrical tube using the slab formula \n",
    "# L/(kA)\n",
    "\n",
    "Rt_cond_approx = (Tube_OD - Tube_ID) / (2 * Tube_Therm) # [(m^2 * K) / W]\n",
    "Rt_conv_sCO2 = 1 / Outlet_h_sCO2 # [(m^2 * K) / W]\n",
    "Rt_conv_Water = 1 / h_Water\n",
    "\n",
    "U_outlet = 1 / (Rt_cond_approx + Rt_conv_sCO2 + Rt_conv_Water)\n",
    "U_outlet"
   ]
  },
  {
   "cell_type": "code",
   "execution_count": 33,
   "id": "a093d972-8945-43a1-aa09-d08f2844e438",
   "metadata": {},
   "outputs": [
    {
     "data": {
      "text/plain": [
       "27.84437508800513"
      ]
     },
     "execution_count": 33,
     "metadata": {},
     "output_type": "execute_result"
    }
   ],
   "source": [
    "Length = (m_dot_sCO2 * (sCO2.loc['Enthalpy [J/kg]', 'Inlet sCO2'] - sCO2.loc['Enthalpy [J/kg]', 'Outlet sCO2']))\\\n",
    "          / (U_outlet * Log_Mean_T * math.pi * Tube_OD)\n",
    "\n",
    "Length = Length * 3.28084 # Converts meters to feet\n",
    "Length # This length uses outlet conditions of sCO2 to approximate length in feet"
   ]
  },
  {
   "cell_type": "code",
   "execution_count": 34,
   "id": "9ad31f45-072e-4868-b1ba-7f43358d5313",
   "metadata": {},
   "outputs": [
    {
     "data": {
      "text/plain": [
       "1784.526718751143"
      ]
     },
     "execution_count": 34,
     "metadata": {},
     "output_type": "execute_result"
    }
   ],
   "source": [
    "# Approximate resistance of the cylindrical tube using the slab formula \n",
    "# L/(kA)\n",
    "\n",
    "Rt_cond_approx = (Tube_OD - Tube_ID) / (2 * Tube_Therm) # [(m^2 * K) / W]\n",
    "Rt_conv_sCO2 = 1 / Mean_h_sCO2 # [(m^2 * K) / W]\n",
    "Rt_conv_Water = 1 / h_Water\n",
    "\n",
    "U_mean = 1 / (Rt_cond_approx + Rt_conv_sCO2 + Rt_conv_Water)\n",
    "U_mean"
   ]
  },
  {
   "cell_type": "code",
   "execution_count": 35,
   "id": "15f7aa51-5d89-459c-bbd8-2f61ddd6f1c8",
   "metadata": {},
   "outputs": [
    {
     "data": {
      "text/plain": [
       "28.71613747130616"
      ]
     },
     "execution_count": 35,
     "metadata": {},
     "output_type": "execute_result"
    }
   ],
   "source": [
    "Length = (m_dot_sCO2 * (sCO2.loc['Enthalpy [J/kg]', 'Inlet sCO2'] - sCO2.loc['Enthalpy [J/kg]', 'Outlet sCO2']))\\\n",
    "          / (U_mean * Log_Mean_T * math.pi * Tube_OD)\n",
    "\n",
    "Length = Length * 3.28084 # Converts meters to feet\n",
    "Length # This length uses mean conditions of sCO2 to approximate length in feet"
   ]
  },
  {
   "cell_type": "code",
   "execution_count": 36,
   "id": "66f0e4f0-d5b9-4fdf-8647-5498480dd44c",
   "metadata": {},
   "outputs": [
    {
     "data": {
      "text/plain": [
       "-7.761759362425539"
      ]
     },
     "execution_count": 36,
     "metadata": {},
     "output_type": "execute_result"
    }
   ],
   "source": [
    "# Total Heat Dissipated with Heat Exchanger\n",
    "Q_Loss = -m_dot_sCO2 * (sCO2.loc['Enthalpy [J/kg]', 'Inlet sCO2'] - sCO2.loc['Enthalpy [J/kg]', 'Outlet sCO2'])\n",
    "Q_Loss/1000"
   ]
  },
  {
   "cell_type": "markdown",
   "id": "b95c8741-d91c-41a8-9d3f-5164fe4a1b7e",
   "metadata": {},
   "source": [
    "#### Pinch Temperature Analysis"
   ]
  },
  {
   "cell_type": "code",
   "execution_count": 37,
   "id": "caeb7995-351f-484f-bfdd-6d75f56ce6c9",
   "metadata": {},
   "outputs": [],
   "source": [
    "# Find the Chnage in enthalpy and the change in pressure of both streams (sCO2 and Water)\n",
    "delta_h_hot = sCO2.loc['Enthalpy [J/kg]', 'Inlet sCO2'] - sCO2.loc['Enthalpy [J/kg]', 'Outlet sCO2']\n",
    "delta_h_cold = Water.loc['Enthalpy [J/kg]', 'Outlet Water'] - Water.loc['Enthalpy [J/kg]', 'Inlet Water']\n",
    "\n",
    "delta_p_sCO2 = P_in - P_out"
   ]
  },
  {
   "cell_type": "code",
   "execution_count": 38,
   "id": "76e39a4f-a3c2-4ea0-ae36-50df3c465c1c",
   "metadata": {},
   "outputs": [
    {
     "name": "stdout",
     "output_type": "stream",
     "text": [
      "[313.5789020983463, 312.98526368110794, 312.4487883585661, 311.96487595426663, 311.5288633282269, 311.13608432914987, 310.7818578537748, 310.461387248264, 310.16960613235835, 309.9010675677547, 309.65000003456214]\n"
     ]
    }
   ],
   "source": [
    "# Iterate for Temperature development of sCO2\n",
    "\n",
    "T_sCO2 = []\n",
    "\n",
    "for k in range(0,11):\n",
    "    P =  P_in - (delta_p_sCO2 * k/10)\n",
    "    H = sCO2.loc['Enthalpy [J/kg]', 'Inlet sCO2'] - (delta_h_hot * k/10)\n",
    "    sCO2_T = RP.REFPROPdll(\"CO2\",\"PH\",\"T\", MASS_BASE_SI,0,0, P, H,[1.0]).Output[0]\n",
    "    T_sCO2.append(sCO2_T)\n",
    "    \n",
    "print(T_sCO2)  "
   ]
  },
  {
   "cell_type": "code",
   "execution_count": 39,
   "id": "9b984952-6c3f-4d42-bc3b-19897e29478a",
   "metadata": {},
   "outputs": [
    {
     "name": "stdout",
     "output_type": "stream",
     "text": [
      "[300.1175113599391, 299.9207455493106, 299.72398277874674, 299.5272231294715, 299.3304666836379, 299.1337135243869, 298.93696373564046, 298.74021740241994, 298.5434746107292, 298.3467354473837, 298.1500000003136]\n"
     ]
    }
   ],
   "source": [
    "# Iterate for Temperature development of Water\n",
    "\n",
    "T_Water = []\n",
    "Enth_Change = []\n",
    "for k in range(0,11):\n",
    "    H = Water.loc['Enthalpy [J/kg]', 'Outlet Water'] - (delta_h_cold * k/10)\n",
    "    Water_T = RP.REFPROPdll(\"Water\",\"PH\",\"T\", MASS_BASE_SI,0,0, P_in_water, H,[1.0]).Output[0]\n",
    "    T_Water.append(Water_T)\n",
    "    \n",
    "    Enth_Change.append(k/10)\n",
    "    \n",
    "print(T_Water)  "
   ]
  },
  {
   "cell_type": "code",
   "execution_count": 40,
   "id": "d8509e35-e8d1-4f20-8276-e825f2d2ceb0",
   "metadata": {},
   "outputs": [
    {
     "data": {
      "image/png": "[encoded data removed]",
      "text/plain": [
       "<Figure size 576x432 with 1 Axes>"
      ]
     },
     "metadata": {
      "needs_background": "light"
     },
     "output_type": "display_data"
    }
   ],
   "source": [
    "# Plot Pinch Temperature \n",
    "T_Water = np.array(T_Water) - 273.15\n",
    "T_sCO2 = np.array(T_sCO2) - 273.15\n",
    "\n",
    "plt.figure(figsize=(8,6), tight_layout=True)\n",
    "\n",
    "plt.plot(Enth_Change, T_sCO2, 'r--', linewidth = 3 , label = \"sCO2 Temperature\" )\n",
    "plt.plot(Enth_Change, T_Water, 'b--', linewidth = 3 , label = \"Water Temperature\")\n",
    "plt.grid(True)\n",
    "plt.axis([0,1,20,45])\n",
    "plt.xlabel('Fractional Change in Enthalpy', fontsize = 13)\n",
    "plt.ylabel('Change in Temperature [C]', fontsize = 13)\n",
    "plt.legend(loc = \"upper right\" , fontsize=12)\n",
    "plt.xticks(fontsize = 11)\n",
    "plt.yticks(fontsize = 11)\n",
    "\n",
    "plt.savefig('Pinch_Temperature.png',bbox_inches='tight')\n",
    "plt.show()"
   ]
  },
  {
   "cell_type": "code",
   "execution_count": null,
   "id": "80952be1-f6d6-4fc7-9a9d-5f79236f4e2f",
   "metadata": {},
   "outputs": [],
   "source": []
  }
 ],
 "metadata": {
  "kernelspec": {
   "display_name": "Python 3",
   "language": "python",
   "name": "python3"
  },
  "language_info": {
   "codemirror_mode": {
    "name": "ipython",
    "version": 3
   },
   "file_extension": ".py",
   "mimetype": "text/x-python",
   "name": "python",
   "nbconvert_exporter": "python",
   "pygments_lexer": "ipython3",
   "version": "3.8.8"
  }
 },
 "nbformat": 4,
 "nbformat_minor": 5
}
